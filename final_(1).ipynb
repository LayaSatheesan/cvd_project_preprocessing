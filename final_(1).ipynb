{
 "cells": [
  {
   "cell_type": "code",
   "execution_count": 1,
   "id": "16358244",
   "metadata": {
    "id": "16358244"
   },
   "outputs": [],
   "source": [
    "#importing the required packages\n",
    "import numpy as np\n",
    "import pandas as pd\n",
    "%matplotlib inline\n",
    "import matplotlib.pyplot as plt\n",
    "import seaborn as sns\n",
    "import warnings\n",
    "warnings.filterwarnings('ignore')"
   ]
  },
  {
   "cell_type": "code",
   "execution_count": 2,
   "id": "af97dbf0",
   "metadata": {
    "colab": {
     "base_uri": "https://localhost:8080/",
     "height": 206
    },
    "id": "af97dbf0",
    "outputId": "e4d54ac7-9744-4e2b-bfd1-301e30cab6ac"
   },
   "outputs": [
    {
     "data": {
      "text/html": [
       "<div>\n",
       "<style scoped>\n",
       "    .dataframe tbody tr th:only-of-type {\n",
       "        vertical-align: middle;\n",
       "    }\n",
       "\n",
       "    .dataframe tbody tr th {\n",
       "        vertical-align: top;\n",
       "    }\n",
       "\n",
       "    .dataframe thead th {\n",
       "        text-align: right;\n",
       "    }\n",
       "</style>\n",
       "<table border=\"1\" class=\"dataframe\">\n",
       "  <thead>\n",
       "    <tr style=\"text-align: right;\">\n",
       "      <th></th>\n",
       "      <th>id</th>\n",
       "      <th>age</th>\n",
       "      <th>gender</th>\n",
       "      <th>height</th>\n",
       "      <th>weight</th>\n",
       "      <th>ap_hi</th>\n",
       "      <th>ap_lo</th>\n",
       "      <th>cholesterol</th>\n",
       "      <th>gluc</th>\n",
       "      <th>smoke</th>\n",
       "      <th>alco</th>\n",
       "      <th>active</th>\n",
       "      <th>cardio</th>\n",
       "    </tr>\n",
       "  </thead>\n",
       "  <tbody>\n",
       "    <tr>\n",
       "      <th>0</th>\n",
       "      <td>0</td>\n",
       "      <td>18393</td>\n",
       "      <td>Male</td>\n",
       "      <td>168.0</td>\n",
       "      <td>62.0</td>\n",
       "      <td>110</td>\n",
       "      <td>80</td>\n",
       "      <td>normal</td>\n",
       "      <td>normal</td>\n",
       "      <td>no</td>\n",
       "      <td>no</td>\n",
       "      <td>yes</td>\n",
       "      <td>no</td>\n",
       "    </tr>\n",
       "    <tr>\n",
       "      <th>1</th>\n",
       "      <td>1</td>\n",
       "      <td>20228</td>\n",
       "      <td>Female</td>\n",
       "      <td>156.0</td>\n",
       "      <td>85.0</td>\n",
       "      <td>140</td>\n",
       "      <td>90</td>\n",
       "      <td>well above normal</td>\n",
       "      <td>normal</td>\n",
       "      <td>no</td>\n",
       "      <td>no</td>\n",
       "      <td>yes</td>\n",
       "      <td>yes</td>\n",
       "    </tr>\n",
       "    <tr>\n",
       "      <th>2</th>\n",
       "      <td>2</td>\n",
       "      <td>18857</td>\n",
       "      <td>Female</td>\n",
       "      <td>165.0</td>\n",
       "      <td>64.0</td>\n",
       "      <td>130</td>\n",
       "      <td>70</td>\n",
       "      <td>well above normal</td>\n",
       "      <td>normal</td>\n",
       "      <td>no</td>\n",
       "      <td>no</td>\n",
       "      <td>no</td>\n",
       "      <td>yes</td>\n",
       "    </tr>\n",
       "    <tr>\n",
       "      <th>3</th>\n",
       "      <td>3</td>\n",
       "      <td>17623</td>\n",
       "      <td>Male</td>\n",
       "      <td>169.0</td>\n",
       "      <td>82.0</td>\n",
       "      <td>150</td>\n",
       "      <td>100</td>\n",
       "      <td>normal</td>\n",
       "      <td>normal</td>\n",
       "      <td>no</td>\n",
       "      <td>no</td>\n",
       "      <td>yes</td>\n",
       "      <td>yes</td>\n",
       "    </tr>\n",
       "    <tr>\n",
       "      <th>4</th>\n",
       "      <td>4</td>\n",
       "      <td>17474</td>\n",
       "      <td>Female</td>\n",
       "      <td>156.0</td>\n",
       "      <td>56.0</td>\n",
       "      <td>100</td>\n",
       "      <td>60</td>\n",
       "      <td>normal</td>\n",
       "      <td>normal</td>\n",
       "      <td>no</td>\n",
       "      <td>no</td>\n",
       "      <td>no</td>\n",
       "      <td>no</td>\n",
       "    </tr>\n",
       "  </tbody>\n",
       "</table>\n",
       "</div>"
      ],
      "text/plain": [
       "   id    age  gender  height  weight  ap_hi  ap_lo        cholesterol    gluc  \\\n",
       "0   0  18393    Male   168.0    62.0    110     80             normal  normal   \n",
       "1   1  20228  Female   156.0    85.0    140     90  well above normal  normal   \n",
       "2   2  18857  Female   165.0    64.0    130     70  well above normal  normal   \n",
       "3   3  17623    Male   169.0    82.0    150    100             normal  normal   \n",
       "4   4  17474  Female   156.0    56.0    100     60             normal  normal   \n",
       "\n",
       "  smoke alco active cardio  \n",
       "0    no   no    yes     no  \n",
       "1    no   no    yes    yes  \n",
       "2    no   no     no    yes  \n",
       "3    no   no    yes    yes  \n",
       "4    no   no     no     no  "
      ]
     },
     "execution_count": 2,
     "metadata": {},
     "output_type": "execute_result"
    }
   ],
   "source": [
    "#loading the given csv data\n",
    "data = pd.read_csv(r'C:\\Users\\Dell\\Downloads\\cardio_data1.csv')\n",
    "data.head()"
   ]
  },
  {
   "cell_type": "code",
   "execution_count": 3,
   "id": "1522a8f2",
   "metadata": {
    "colab": {
     "base_uri": "https://localhost:8080/"
    },
    "id": "1522a8f2",
    "outputId": "aad149f0-aa07-4e67-8b05-a9365e4d8ab4"
   },
   "outputs": [
    {
     "data": {
      "text/plain": [
       "Index(['id', 'age', 'gender', 'height', 'weight', 'ap_hi', 'ap_lo',\n",
       "       'cholesterol', 'gluc', 'smoke', 'alco', 'active', 'cardio'],\n",
       "      dtype='object')"
      ]
     },
     "execution_count": 3,
     "metadata": {},
     "output_type": "execute_result"
    }
   ],
   "source": [
    "data.columns"
   ]
  },
  {
   "cell_type": "code",
   "execution_count": 4,
   "id": "6df9ed35",
   "metadata": {
    "colab": {
     "base_uri": "https://localhost:8080/"
    },
    "id": "6df9ed35",
    "outputId": "b154fc56-6a3a-487d-c3c7-395afa3a1db2"
   },
   "outputs": [
    {
     "data": {
      "text/plain": [
       "(70000, 13)"
      ]
     },
     "execution_count": 4,
     "metadata": {},
     "output_type": "execute_result"
    }
   ],
   "source": [
    "#finding the number of columns and rows\n",
    "data.shape"
   ]
  },
  {
   "cell_type": "code",
   "execution_count": 5,
   "id": "4c512a94",
   "metadata": {
    "colab": {
     "base_uri": "https://localhost:8080/",
     "height": 300
    },
    "id": "4c512a94",
    "outputId": "371cf2fb-53c8-4ee8-9a88-267bbabf5857"
   },
   "outputs": [
    {
     "data": {
      "text/html": [
       "<div>\n",
       "<style scoped>\n",
       "    .dataframe tbody tr th:only-of-type {\n",
       "        vertical-align: middle;\n",
       "    }\n",
       "\n",
       "    .dataframe tbody tr th {\n",
       "        vertical-align: top;\n",
       "    }\n",
       "\n",
       "    .dataframe thead th {\n",
       "        text-align: right;\n",
       "    }\n",
       "</style>\n",
       "<table border=\"1\" class=\"dataframe\">\n",
       "  <thead>\n",
       "    <tr style=\"text-align: right;\">\n",
       "      <th></th>\n",
       "      <th>id</th>\n",
       "      <th>age</th>\n",
       "      <th>height</th>\n",
       "      <th>weight</th>\n",
       "      <th>ap_hi</th>\n",
       "      <th>ap_lo</th>\n",
       "    </tr>\n",
       "  </thead>\n",
       "  <tbody>\n",
       "    <tr>\n",
       "      <th>count</th>\n",
       "      <td>70000.000000</td>\n",
       "      <td>70000.000000</td>\n",
       "      <td>69941.000000</td>\n",
       "      <td>70000.000000</td>\n",
       "      <td>70000.000000</td>\n",
       "      <td>70000.000000</td>\n",
       "    </tr>\n",
       "    <tr>\n",
       "      <th>mean</th>\n",
       "      <td>49972.419900</td>\n",
       "      <td>19468.865814</td>\n",
       "      <td>164.358116</td>\n",
       "      <td>74.205690</td>\n",
       "      <td>128.817286</td>\n",
       "      <td>96.630414</td>\n",
       "    </tr>\n",
       "    <tr>\n",
       "      <th>std</th>\n",
       "      <td>28851.302323</td>\n",
       "      <td>2467.251667</td>\n",
       "      <td>8.210681</td>\n",
       "      <td>14.395757</td>\n",
       "      <td>154.011419</td>\n",
       "      <td>188.472530</td>\n",
       "    </tr>\n",
       "    <tr>\n",
       "      <th>min</th>\n",
       "      <td>0.000000</td>\n",
       "      <td>10798.000000</td>\n",
       "      <td>55.000000</td>\n",
       "      <td>10.000000</td>\n",
       "      <td>-150.000000</td>\n",
       "      <td>-70.000000</td>\n",
       "    </tr>\n",
       "    <tr>\n",
       "      <th>25%</th>\n",
       "      <td>25006.750000</td>\n",
       "      <td>17664.000000</td>\n",
       "      <td>159.000000</td>\n",
       "      <td>65.000000</td>\n",
       "      <td>120.000000</td>\n",
       "      <td>80.000000</td>\n",
       "    </tr>\n",
       "    <tr>\n",
       "      <th>50%</th>\n",
       "      <td>50001.500000</td>\n",
       "      <td>19703.000000</td>\n",
       "      <td>165.000000</td>\n",
       "      <td>72.000000</td>\n",
       "      <td>120.000000</td>\n",
       "      <td>80.000000</td>\n",
       "    </tr>\n",
       "    <tr>\n",
       "      <th>75%</th>\n",
       "      <td>74889.250000</td>\n",
       "      <td>21327.000000</td>\n",
       "      <td>170.000000</td>\n",
       "      <td>82.000000</td>\n",
       "      <td>140.000000</td>\n",
       "      <td>90.000000</td>\n",
       "    </tr>\n",
       "    <tr>\n",
       "      <th>max</th>\n",
       "      <td>99999.000000</td>\n",
       "      <td>23713.000000</td>\n",
       "      <td>250.000000</td>\n",
       "      <td>200.000000</td>\n",
       "      <td>16020.000000</td>\n",
       "      <td>11000.000000</td>\n",
       "    </tr>\n",
       "  </tbody>\n",
       "</table>\n",
       "</div>"
      ],
      "text/plain": [
       "                 id           age        height        weight         ap_hi  \\\n",
       "count  70000.000000  70000.000000  69941.000000  70000.000000  70000.000000   \n",
       "mean   49972.419900  19468.865814    164.358116     74.205690    128.817286   \n",
       "std    28851.302323   2467.251667      8.210681     14.395757    154.011419   \n",
       "min        0.000000  10798.000000     55.000000     10.000000   -150.000000   \n",
       "25%    25006.750000  17664.000000    159.000000     65.000000    120.000000   \n",
       "50%    50001.500000  19703.000000    165.000000     72.000000    120.000000   \n",
       "75%    74889.250000  21327.000000    170.000000     82.000000    140.000000   \n",
       "max    99999.000000  23713.000000    250.000000    200.000000  16020.000000   \n",
       "\n",
       "              ap_lo  \n",
       "count  70000.000000  \n",
       "mean      96.630414  \n",
       "std      188.472530  \n",
       "min      -70.000000  \n",
       "25%       80.000000  \n",
       "50%       80.000000  \n",
       "75%       90.000000  \n",
       "max    11000.000000  "
      ]
     },
     "execution_count": 5,
     "metadata": {},
     "output_type": "execute_result"
    }
   ],
   "source": [
    "#Statistical summary\n",
    "data.describe()"
   ]
  },
  {
   "cell_type": "code",
   "execution_count": 6,
   "id": "a7925294",
   "metadata": {
    "colab": {
     "base_uri": "https://localhost:8080/"
    },
    "id": "a7925294",
    "outputId": "b640a89b-d2f5-4e58-b947-41624f24b05f"
   },
   "outputs": [
    {
     "name": "stdout",
     "output_type": "stream",
     "text": [
      "<class 'pandas.core.frame.DataFrame'>\n",
      "RangeIndex: 70000 entries, 0 to 69999\n",
      "Data columns (total 13 columns):\n",
      " #   Column       Non-Null Count  Dtype  \n",
      "---  ------       --------------  -----  \n",
      " 0   id           70000 non-null  int64  \n",
      " 1   age          70000 non-null  int64  \n",
      " 2   gender       69992 non-null  object \n",
      " 3   height       69941 non-null  float64\n",
      " 4   weight       70000 non-null  float64\n",
      " 5   ap_hi        70000 non-null  int64  \n",
      " 6   ap_lo        70000 non-null  int64  \n",
      " 7   cholesterol  69985 non-null  object \n",
      " 8   gluc         70000 non-null  object \n",
      " 9   smoke        70000 non-null  object \n",
      " 10  alco         69987 non-null  object \n",
      " 11  active       70000 non-null  object \n",
      " 12  cardio       70000 non-null  object \n",
      "dtypes: float64(2), int64(4), object(7)\n",
      "memory usage: 6.9+ MB\n"
     ]
    }
   ],
   "source": [
    "#finding the data information\n",
    "data.info()"
   ]
  },
  {
   "cell_type": "markdown",
   "id": "7062f15f",
   "metadata": {
    "id": "7062f15f"
   },
   "source": [
    "# Exploratory Data Analysis"
   ]
  },
  {
   "cell_type": "code",
   "execution_count": 7,
   "id": "251bfbb6",
   "metadata": {
    "colab": {
     "base_uri": "https://localhost:8080/",
     "height": 295
    },
    "id": "251bfbb6",
    "outputId": "81b91044-d012-4cbd-9795-c8d3ce67de3d"
   },
   "outputs": [
    {
     "data": {
      "image/png": "[encoded data removed]",
      "text/plain": [
       "<Figure size 432x288 with 1 Axes>"
      ]
     },
     "metadata": {
      "needs_background": "light"
     },
     "output_type": "display_data"
    }
   ],
   "source": [
    "sns.countplot(x=data[\"gender\"])\n",
    "plt.title(\"Countplot of gender\")\n",
    "plt.xlabel(\"Gender\")\n",
    "plt.ylabel(\"Count\")\n",
    "plt.show()"
   ]
  },
  {
   "cell_type": "markdown",
   "id": "b455bda2",
   "metadata": {
    "id": "b455bda2"
   },
   "source": [
    "In this dataset number of females is higher than males."
   ]
  },
  {
   "cell_type": "code",
   "execution_count": 8,
   "id": "cfac8366",
   "metadata": {
    "colab": {
     "base_uri": "https://localhost:8080/",
     "height": 295
    },
    "id": "cfac8366",
    "outputId": "1a11439c-dc98-4736-d203-4887f7ea9cca"
   },
   "outputs": [
    {
     "data": {
      "image/png": "[encoded data removed]",
      "text/plain": [
       "<Figure size 432x288 with 1 Axes>"
      ]
     },
     "metadata": {
      "needs_background": "light"
     },
     "output_type": "display_data"
    }
   ],
   "source": [
    "sns.countplot(x=data[\"cardio\"])\n",
    "plt.title(\"Countplot of cardio\")\n",
    "plt.xlabel(\"Gender\")\n",
    "plt.ylabel(\"Count\")\n",
    "plt.show()"
   ]
  },
  {
   "cell_type": "markdown",
   "id": "4269530f",
   "metadata": {
    "id": "4269530f"
   },
   "source": [
    "The number of people with cardiovascular and without cardiovascular are almost similar"
   ]
  },
  {
   "cell_type": "code",
   "execution_count": 9,
   "id": "9bb59592",
   "metadata": {
    "colab": {
     "base_uri": "https://localhost:8080/"
    },
    "id": "9bb59592",
    "outputId": "39a36e22-ece1-4ec8-a436-87973b82c111"
   },
   "outputs": [
    {
     "data": {
      "text/plain": [
       "no     0.5003\n",
       "yes    0.4997\n",
       "Name: cardio, dtype: float64"
      ]
     },
     "execution_count": 9,
     "metadata": {},
     "output_type": "execute_result"
    }
   ],
   "source": [
    "data[\"cardio\"].value_counts(normalize=True)"
   ]
  },
  {
   "cell_type": "code",
   "execution_count": 10,
   "id": "ba87b438",
   "metadata": {
    "colab": {
     "base_uri": "https://localhost:8080/",
     "height": 295
    },
    "id": "ba87b438",
    "outputId": "5baf607b-ade6-4bc6-96c5-7ec2195dd834"
   },
   "outputs": [
    {
     "data": {
      "image/png": "[encoded data removed]",
      "text/plain": [
       "<Figure size 432x288 with 1 Axes>"
      ]
     },
     "metadata": {
      "needs_background": "light"
     },
     "output_type": "display_data"
    }
   ],
   "source": [
    "sns.countplot(x=data[\"smoke\"])\n",
    "plt.title(\"Countplot of smokers\")\n",
    "plt.xlabel(\"Smoker\")\n",
    "plt.ylabel(\"Count\")\n",
    "plt.show()"
   ]
  },
  {
   "cell_type": "markdown",
   "id": "e1578b41",
   "metadata": {
    "id": "e1578b41"
   },
   "source": [
    "The number of smokers are lesser compaired to non smokers.More than 90 % of patients are non smokers."
   ]
  },
  {
   "cell_type": "code",
   "execution_count": 11,
   "id": "1fa46509",
   "metadata": {
    "colab": {
     "base_uri": "https://localhost:8080/"
    },
    "id": "1fa46509",
    "outputId": "200159d1-918a-428f-ad97-277ad47f0900"
   },
   "outputs": [
    {
     "data": {
      "text/plain": [
       "no     0.911871\n",
       "yes    0.088129\n",
       "Name: smoke, dtype: float64"
      ]
     },
     "execution_count": 11,
     "metadata": {},
     "output_type": "execute_result"
    }
   ],
   "source": [
    "data[\"smoke\"].value_counts(normalize=True)"
   ]
  },
  {
   "cell_type": "code",
   "execution_count": 12,
   "id": "0fcbb26c",
   "metadata": {
    "colab": {
     "base_uri": "https://localhost:8080/",
     "height": 264
    },
    "id": "0fcbb26c",
    "outputId": "b4367808-80b8-4be8-bcfe-0f58b24879ef"
   },
   "outputs": [
    {
     "data": {
      "image/png": "[encoded data removed]",
      "text/plain": [
       "<Figure size 432x288 with 1 Axes>"
      ]
     },
     "metadata": {},
     "output_type": "display_data"
    }
   ],
   "source": [
    "plt.pie(x=data[\"gluc\"].value_counts(),labels=['normal', 'well above normal', 'above normal'],autopct='%.2f')\n",
    "plt.title('Glucose level of patients')\n",
    "plt.legend()\n",
    "plt.show()"
   ]
  },
  {
   "cell_type": "markdown",
   "id": "0fe51849",
   "metadata": {
    "id": "0fe51849"
   },
   "source": [
    "84.97% of patients having glucose level in normal.7.41% of patients have above normal level of glucose and 7.62% of patients have well above normal level of glucose"
   ]
  },
  {
   "cell_type": "code",
   "execution_count": 13,
   "id": "63aed164",
   "metadata": {
    "colab": {
     "base_uri": "https://localhost:8080/",
     "height": 264
    },
    "id": "63aed164",
    "outputId": "26f99cf0-f613-4cbf-df54-dee9828e64d2"
   },
   "outputs": [
    {
     "data": {
      "image/png": "[encoded data removed]",
      "text/plain": [
       "<Figure size 432x288 with 1 Axes>"
      ]
     },
     "metadata": {},
     "output_type": "display_data"
    }
   ],
   "source": [
    "plt.pie(x=data[\"cholesterol\"].value_counts(),labels=['normal', 'well above normal', 'above normal'],autopct='%.2f')\n",
    "plt.title('Cholestrol level of patients')\n",
    "plt.legend()\n",
    "plt.show()"
   ]
  },
  {
   "cell_type": "markdown",
   "id": "53f0a19c",
   "metadata": {
    "id": "53f0a19c"
   },
   "source": [
    "About 74.84% of them have a normal cholestrol value. 11.52% have above normal value of cholestrol and 13.64% patients has well above normal value.\n",
    "\n"
   ]
  },
  {
   "cell_type": "code",
   "execution_count": 14,
   "id": "337f2d22",
   "metadata": {
    "colab": {
     "base_uri": "https://localhost:8080/",
     "height": 404
    },
    "id": "337f2d22",
    "outputId": "6a151e2a-0383-40e2-c31e-4ff5d2b04f6a"
   },
   "outputs": [
    {
     "data": {
      "image/png": "[encoded data removed]",
      "text/plain": [
       "<Figure size 576x432 with 1 Axes>"
      ]
     },
     "metadata": {
      "needs_background": "light"
     },
     "output_type": "display_data"
    }
   ],
   "source": [
    "plt.figure(figsize=(8,6))\n",
    "sns.histplot(data[\"height\"],binwidth=5)\n",
    "plt.title(\"Distribution of height\")\n",
    "plt.show()"
   ]
  },
  {
   "cell_type": "markdown",
   "id": "728616e5",
   "metadata": {
    "id": "728616e5"
   },
   "source": [
    "Most of people height in between 155 to 175.Very few pople having height lessthan 150."
   ]
  },
  {
   "cell_type": "code",
   "execution_count": 15,
   "id": "81e52393",
   "metadata": {
    "colab": {
     "base_uri": "https://localhost:8080/",
     "height": 404
    },
    "id": "81e52393",
    "outputId": "68d3f1c1-6744-47a9-cb4c-216338659078"
   },
   "outputs": [
    {
     "data": {
      "image/png": "[encoded data removed]",
      "text/plain": [
       "<Figure size 576x432 with 1 Axes>"
      ]
     },
     "metadata": {
      "needs_background": "light"
     },
     "output_type": "display_data"
    }
   ],
   "source": [
    "plt.figure(figsize=(8,6))\n",
    "sns.histplot(data[\"weight\"],binwidth=5)\n",
    "plt.title(\"Distribution of weight\")\n",
    "plt.show()"
   ]
  },
  {
   "cell_type": "markdown",
   "id": "bd636c4f",
   "metadata": {
    "id": "bd636c4f"
   },
   "source": [
    "Graph is right skewed.Nearly 40000 people with weight range between 65 to 75"
   ]
  },
  {
   "cell_type": "code",
   "execution_count": 16,
   "id": "cfc6c9e2",
   "metadata": {
    "colab": {
     "base_uri": "https://localhost:8080/",
     "height": 295
    },
    "id": "cfc6c9e2",
    "outputId": "5fe15a13-5e99-482d-bb4b-8850143e54a5"
   },
   "outputs": [
    {
     "data": {
      "image/png": "[encoded data removed]",
      "text/plain": [
       "<Figure size 432x288 with 1 Axes>"
      ]
     },
     "metadata": {
      "needs_background": "light"
     },
     "output_type": "display_data"
    }
   ],
   "source": [
    "sns.lineplot(x=data['cardio'],y=data['ap_hi'],marker='o')\n",
    "plt.title('lineplot of systolic blood pressure values with respect to cardio vascular disease')\n",
    "plt.show()"
   ]
  },
  {
   "cell_type": "markdown",
   "id": "e4fc2a45",
   "metadata": {
    "id": "e4fc2a45"
   },
   "source": [
    "As the value of ap_hi increases the chances for cardio vascular disease also increases. Both are directly proportional."
   ]
  },
  {
   "cell_type": "code",
   "execution_count": 17,
   "id": "d2023274",
   "metadata": {
    "colab": {
     "base_uri": "https://localhost:8080/",
     "height": 295
    },
    "id": "d2023274",
    "outputId": "0996be0e-541c-4a57-94ea-3aea390fe37f"
   },
   "outputs": [
    {
     "data": {
      "image/png": "[encoded data removed]",
      "text/plain": [
       "<Figure size 432x288 with 1 Axes>"
      ]
     },
     "metadata": {
      "needs_background": "light"
     },
     "output_type": "display_data"
    }
   ],
   "source": [
    "sns.lineplot(x=data['cardio'],y=data['ap_lo'],marker='o')\n",
    "plt.title('lineplot of diastolic blood pressure values with respect to cardio vascular disease')\n",
    "plt.show()"
   ]
  },
  {
   "cell_type": "markdown",
   "id": "dbfeb8ab",
   "metadata": {
    "id": "dbfeb8ab"
   },
   "source": [
    "As the value of ap_lo increases the chances for cardio vascular disease also increases. Both are directly proportional."
   ]
  },
  {
   "cell_type": "code",
   "execution_count": 18,
   "id": "71d118dc",
   "metadata": {
    "id": "71d118dc"
   },
   "outputs": [],
   "source": [
    "#age is given in number of days.So we want to change into year\n",
    "#data[\"age\"]=np.round(data[\"age\"]/365)\n",
    "data['age']=np.round(data['age']/365)"
   ]
  },
  {
   "cell_type": "code",
   "execution_count": 19,
   "id": "fa255d94",
   "metadata": {
    "colab": {
     "base_uri": "https://localhost:8080/",
     "height": 1000
    },
    "id": "fa255d94",
    "outputId": "ba30165e-ac53-4068-a445-3434915fb6b0"
   },
   "outputs": [
    {
     "data": {
      "image/png": "[encoded data removed]",
      "text/plain": [
       "<Figure size 1440x1440 with 7 Axes>"
      ]
     },
     "metadata": {
      "needs_background": "light"
     },
     "output_type": "display_data"
    }
   ],
   "source": [
    "#setting the required plot style\n",
    "plt.style.use('bmh')\n",
    "#Defining a function graph()\n",
    "def graph(x):\n",
    "    sns.countplot(x = x,hue= 'cardio', data = data )\n",
    "    #adding labels for x and y axis\n",
    "    plt.xlabel(x, fontsize = 15)\n",
    "    plt.ylabel('Count', fontsize = 15)\n",
    "    plt.xticks(fontsize=9)\n",
    "    plt.yticks(fontsize=9)\n",
    "plt.figure(figsize=(20,20))\n",
    "#plotting subplots using the function graph()\n",
    "plt.subplot(421)\n",
    "graph('age')\n",
    "plt.subplot(422)\n",
    "graph('gender')\n",
    "plt.subplot(423)\n",
    "graph('cholesterol')\n",
    "plt.subplot(424)\n",
    "graph('gluc')\n",
    "plt.subplot(425)\n",
    "graph('smoke')\n",
    "plt.subplot(426)\n",
    "graph('alco')\n",
    "plt.subplot(427)\n",
    "graph('active')\n",
    "plt.show();"
   ]
  },
  {
   "cell_type": "markdown",
   "id": "7cb3e21f",
   "metadata": {
    "id": "7cb3e21f"
   },
   "source": [
    "> As age increases the chance of getting cardio disease increases\n",
    "\n",
    "> Chances of getting cardio disease increases with rise in cholesterol level\n",
    "\n",
    "> Persons with Glucose level greater than normal are more likely to get cardio disease\n",
    "\n",
    "> Consumption of alcohol and smoking habit has less effect as its similar to those who don't have these habits.\n",
    "\n",
    "> Active people can also have a chance of cardio disease"
   ]
  },
  {
   "cell_type": "code",
   "execution_count": 20,
   "id": "b722a91d",
   "metadata": {
    "colab": {
     "base_uri": "https://localhost:8080/",
     "height": 770
    },
    "id": "b722a91d",
    "outputId": "9d4f263e-5e56-49de-b6aa-e37d7cabdb68"
   },
   "outputs": [
    {
     "data": {
      "image/png": "[encoded data removed]",
      "text/plain": [
       "<Figure size 1440x1440 with 5 Axes>"
      ]
     },
     "metadata": {
      "needs_background": "light"
     },
     "output_type": "display_data"
    }
   ],
   "source": [
    "#setting the required plot style\n",
    "plt.style.use('bmh')\n",
    "#Defining a function graph()\n",
    "def graph(y):\n",
    "    sns.boxplot(x = 'cardio', y = y , data = data)\n",
    "    plt.xlabel('cardio', fontsize = 18)\n",
    "    plt.ylabel( y, fontsize = 18)\n",
    "plt.figure(figsize=(20,20))\n",
    "#plotting subplots using the function graph()\n",
    "plt.subplot(331)\n",
    "graph('age')\n",
    "plt.subplot(332)\n",
    "graph('height')\n",
    "plt.subplot(333)\n",
    "graph('weight')\n",
    "plt.subplot(334)\n",
    "graph('ap_hi')\n",
    "plt.subplot(335)\n",
    "graph('ap_lo')\n",
    "plt.show();\n"
   ]
  },
  {
   "cell_type": "markdown",
   "id": "368d323d",
   "metadata": {
    "id": "368d323d"
   },
   "source": [
    "> Cardio disease is common for people having:\n",
    "    \n",
    "• Age 50-60 years\n",
    "\n",
    "• Weight 70-80kg\n",
    "\n",
    "• Systolic pressure 120-200 mmHg\n",
    "\n",
    "• Diastolic pressure 80-120 mmHg\n",
    "\n",
    "• Outliers need to be handled"
   ]
  },
  {
   "cell_type": "markdown",
   "id": "3c17cf20",
   "metadata": {
    "id": "3c17cf20"
   },
   "source": [
    "# Data Cleaning"
   ]
  },
  {
   "cell_type": "code",
   "execution_count": 21,
   "id": "1fd3da7f",
   "metadata": {
    "id": "1fd3da7f"
   },
   "outputs": [],
   "source": [
    "#Missing Values"
   ]
  },
  {
   "cell_type": "code",
   "execution_count": 22,
   "id": "f66278b9",
   "metadata": {
    "colab": {
     "base_uri": "https://localhost:8080/"
    },
    "id": "f66278b9",
    "outputId": "8b20b1e1-2b19-4797-8c9f-8cf09277edbc"
   },
   "outputs": [
    {
     "data": {
      "text/plain": [
       "id              0\n",
       "age             0\n",
       "gender          8\n",
       "height         59\n",
       "weight          0\n",
       "ap_hi           0\n",
       "ap_lo           0\n",
       "cholesterol    15\n",
       "gluc            0\n",
       "smoke           0\n",
       "alco           13\n",
       "active          0\n",
       "cardio          0\n",
       "dtype: int64"
      ]
     },
     "execution_count": 22,
     "metadata": {},
     "output_type": "execute_result"
    }
   ],
   "source": [
    "#Checking for null values\n",
    "data.isna().sum()"
   ]
  },
  {
   "cell_type": "code",
   "execution_count": 23,
   "id": "3-b0BFvXrmXA",
   "metadata": {
    "colab": {
     "base_uri": "https://localhost:8080/"
    },
    "id": "3-b0BFvXrmXA",
    "outputId": "4b5153d9-958b-4512-ba9a-f1eccb6bc906"
   },
   "outputs": [
    {
     "data": {
      "text/plain": [
       "id               int64\n",
       "age            float64\n",
       "gender          object\n",
       "height         float64\n",
       "weight         float64\n",
       "ap_hi            int64\n",
       "ap_lo            int64\n",
       "cholesterol     object\n",
       "gluc            object\n",
       "smoke           object\n",
       "alco            object\n",
       "active          object\n",
       "cardio          object\n",
       "dtype: object"
      ]
     },
     "execution_count": 23,
     "metadata": {},
     "output_type": "execute_result"
    }
   ],
   "source": [
    "data.dtypes"
   ]
  },
  {
   "cell_type": "code",
   "execution_count": 24,
   "id": "ae47bc02",
   "metadata": {
    "id": "ae47bc02"
   },
   "outputs": [],
   "source": [
    "#Since the alco and chlesterol are categorical values,null values can be filled with mode."
   ]
  },
  {
   "cell_type": "code",
   "execution_count": 25,
   "id": "36d05582",
   "metadata": {
    "id": "36d05582"
   },
   "outputs": [],
   "source": [
    "cols=['alco','cholesterol','gender']\n",
    "for i in cols:\n",
    "    data[i]=data[i].fillna(data[i].mode()[0])\n",
    "    "
   ]
  },
  {
   "cell_type": "code",
   "execution_count": 26,
   "id": "e6414dc9",
   "metadata": {
    "id": "e6414dc9"
   },
   "outputs": [],
   "source": [
    "#plotting of missing values of height"
   ]
  },
  {
   "cell_type": "code",
   "execution_count": 27,
   "id": "9d3718f2",
   "metadata": {
    "colab": {
     "base_uri": "https://localhost:8080/",
     "height": 313
    },
    "id": "9d3718f2",
    "outputId": "489ae71a-a07b-41a2-ee63-191af48d8ec3"
   },
   "outputs": [
    {
     "data": {
      "text/plain": [
       "<function matplotlib.pyplot.show(close=None, block=None)>"
      ]
     },
     "execution_count": 27,
     "metadata": {},
     "output_type": "execute_result"
    },
    {
     "data": {
      "image/png": "[encoded data removed]",
      "text/plain": [
       "<Figure size 432x288 with 1 Axes>"
      ]
     },
     "metadata": {
      "needs_background": "light"
     },
     "output_type": "display_data"
    }
   ],
   "source": [
    "sns.histplot(data['height'],binwidth=5)\n",
    "plt.title('Distribution of height')\n",
    "plt.show"
   ]
  },
  {
   "cell_type": "code",
   "execution_count": 28,
   "id": "5cd9d158",
   "metadata": {
    "id": "5cd9d158"
   },
   "outputs": [],
   "source": [
    "#Since the data distribution is normal,we can fill the missing values of height with mean"
   ]
  },
  {
   "cell_type": "code",
   "execution_count": 29,
   "id": "a292c912",
   "metadata": {
    "id": "a292c912"
   },
   "outputs": [],
   "source": [
    "data['height']=data['height'].fillna(data['height'].mean())"
   ]
  },
  {
   "cell_type": "code",
   "execution_count": 30,
   "id": "e38ba7fa",
   "metadata": {
    "colab": {
     "base_uri": "https://localhost:8080/"
    },
    "id": "e38ba7fa",
    "outputId": "eb5b7872-db1c-4877-fcbb-f77188e61509"
   },
   "outputs": [
    {
     "data": {
      "text/plain": [
       "id             0\n",
       "age            0\n",
       "gender         0\n",
       "height         0\n",
       "weight         0\n",
       "ap_hi          0\n",
       "ap_lo          0\n",
       "cholesterol    0\n",
       "gluc           0\n",
       "smoke          0\n",
       "alco           0\n",
       "active         0\n",
       "cardio         0\n",
       "dtype: int64"
      ]
     },
     "execution_count": 30,
     "metadata": {},
     "output_type": "execute_result"
    }
   ],
   "source": [
    "data.isna().sum()"
   ]
  },
  {
   "cell_type": "code",
   "execution_count": 31,
   "id": "2f16c6f2",
   "metadata": {
    "colab": {
     "base_uri": "https://localhost:8080/"
    },
    "id": "2f16c6f2",
    "outputId": "f49f8e4b-a649-4574-fc68-52183819b70b"
   },
   "outputs": [
    {
     "data": {
      "text/plain": [
       "id             70000\n",
       "age               28\n",
       "gender             2\n",
       "height           110\n",
       "weight           287\n",
       "ap_hi            153\n",
       "ap_lo            157\n",
       "cholesterol        3\n",
       "gluc               3\n",
       "smoke              2\n",
       "alco               2\n",
       "active             2\n",
       "cardio             2\n",
       "dtype: int64"
      ]
     },
     "execution_count": 31,
     "metadata": {},
     "output_type": "execute_result"
    }
   ],
   "source": [
    "#finding unique values\n",
    "data.nunique()"
   ]
  },
  {
   "cell_type": "code",
   "execution_count": 32,
   "id": "73b4b4e2",
   "metadata": {
    "id": "73b4b4e2"
   },
   "outputs": [],
   "source": [
    "#Dropping of 'id' column"
   ]
  },
  {
   "cell_type": "code",
   "execution_count": 33,
   "id": "11715161",
   "metadata": {
    "id": "11715161"
   },
   "outputs": [],
   "source": [
    "data.drop('id',axis=1,inplace=True)"
   ]
  },
  {
   "cell_type": "code",
   "execution_count": 34,
   "id": "1932b47c",
   "metadata": {
    "colab": {
     "base_uri": "https://localhost:8080/",
     "height": 206
    },
    "id": "1932b47c",
    "outputId": "b09764f9-42b1-406e-cefa-3a6f44ea0e73"
   },
   "outputs": [
    {
     "data": {
      "text/html": [
       "<div>\n",
       "<style scoped>\n",
       "    .dataframe tbody tr th:only-of-type {\n",
       "        vertical-align: middle;\n",
       "    }\n",
       "\n",
       "    .dataframe tbody tr th {\n",
       "        vertical-align: top;\n",
       "    }\n",
       "\n",
       "    .dataframe thead th {\n",
       "        text-align: right;\n",
       "    }\n",
       "</style>\n",
       "<table border=\"1\" class=\"dataframe\">\n",
       "  <thead>\n",
       "    <tr style=\"text-align: right;\">\n",
       "      <th></th>\n",
       "      <th>age</th>\n",
       "      <th>gender</th>\n",
       "      <th>height</th>\n",
       "      <th>weight</th>\n",
       "      <th>ap_hi</th>\n",
       "      <th>ap_lo</th>\n",
       "      <th>cholesterol</th>\n",
       "      <th>gluc</th>\n",
       "      <th>smoke</th>\n",
       "      <th>alco</th>\n",
       "      <th>active</th>\n",
       "      <th>cardio</th>\n",
       "    </tr>\n",
       "  </thead>\n",
       "  <tbody>\n",
       "    <tr>\n",
       "      <th>0</th>\n",
       "      <td>50.0</td>\n",
       "      <td>Male</td>\n",
       "      <td>168.0</td>\n",
       "      <td>62.0</td>\n",
       "      <td>110</td>\n",
       "      <td>80</td>\n",
       "      <td>normal</td>\n",
       "      <td>normal</td>\n",
       "      <td>no</td>\n",
       "      <td>no</td>\n",
       "      <td>yes</td>\n",
       "      <td>no</td>\n",
       "    </tr>\n",
       "    <tr>\n",
       "      <th>1</th>\n",
       "      <td>55.0</td>\n",
       "      <td>Female</td>\n",
       "      <td>156.0</td>\n",
       "      <td>85.0</td>\n",
       "      <td>140</td>\n",
       "      <td>90</td>\n",
       "      <td>well above normal</td>\n",
       "      <td>normal</td>\n",
       "      <td>no</td>\n",
       "      <td>no</td>\n",
       "      <td>yes</td>\n",
       "      <td>yes</td>\n",
       "    </tr>\n",
       "    <tr>\n",
       "      <th>2</th>\n",
       "      <td>52.0</td>\n",
       "      <td>Female</td>\n",
       "      <td>165.0</td>\n",
       "      <td>64.0</td>\n",
       "      <td>130</td>\n",
       "      <td>70</td>\n",
       "      <td>well above normal</td>\n",
       "      <td>normal</td>\n",
       "      <td>no</td>\n",
       "      <td>no</td>\n",
       "      <td>no</td>\n",
       "      <td>yes</td>\n",
       "    </tr>\n",
       "    <tr>\n",
       "      <th>3</th>\n",
       "      <td>48.0</td>\n",
       "      <td>Male</td>\n",
       "      <td>169.0</td>\n",
       "      <td>82.0</td>\n",
       "      <td>150</td>\n",
       "      <td>100</td>\n",
       "      <td>normal</td>\n",
       "      <td>normal</td>\n",
       "      <td>no</td>\n",
       "      <td>no</td>\n",
       "      <td>yes</td>\n",
       "      <td>yes</td>\n",
       "    </tr>\n",
       "    <tr>\n",
       "      <th>4</th>\n",
       "      <td>48.0</td>\n",
       "      <td>Female</td>\n",
       "      <td>156.0</td>\n",
       "      <td>56.0</td>\n",
       "      <td>100</td>\n",
       "      <td>60</td>\n",
       "      <td>normal</td>\n",
       "      <td>normal</td>\n",
       "      <td>no</td>\n",
       "      <td>no</td>\n",
       "      <td>no</td>\n",
       "      <td>no</td>\n",
       "    </tr>\n",
       "  </tbody>\n",
       "</table>\n",
       "</div>"
      ],
      "text/plain": [
       "    age  gender  height  weight  ap_hi  ap_lo        cholesterol    gluc  \\\n",
       "0  50.0    Male   168.0    62.0    110     80             normal  normal   \n",
       "1  55.0  Female   156.0    85.0    140     90  well above normal  normal   \n",
       "2  52.0  Female   165.0    64.0    130     70  well above normal  normal   \n",
       "3  48.0    Male   169.0    82.0    150    100             normal  normal   \n",
       "4  48.0  Female   156.0    56.0    100     60             normal  normal   \n",
       "\n",
       "  smoke alco active cardio  \n",
       "0    no   no    yes     no  \n",
       "1    no   no    yes    yes  \n",
       "2    no   no     no    yes  \n",
       "3    no   no    yes    yes  \n",
       "4    no   no     no     no  "
      ]
     },
     "execution_count": 34,
     "metadata": {},
     "output_type": "execute_result"
    }
   ],
   "source": [
    "data.head()"
   ]
  },
  {
   "cell_type": "code",
   "execution_count": 35,
   "id": "9abb57cd",
   "metadata": {
    "colab": {
     "base_uri": "https://localhost:8080/",
     "height": 206
    },
    "id": "9abb57cd",
    "outputId": "34183966-170c-430c-ba83-54615b849133"
   },
   "outputs": [
    {
     "data": {
      "text/html": [
       "<div>\n",
       "<style scoped>\n",
       "    .dataframe tbody tr th:only-of-type {\n",
       "        vertical-align: middle;\n",
       "    }\n",
       "\n",
       "    .dataframe tbody tr th {\n",
       "        vertical-align: top;\n",
       "    }\n",
       "\n",
       "    .dataframe thead th {\n",
       "        text-align: right;\n",
       "    }\n",
       "</style>\n",
       "<table border=\"1\" class=\"dataframe\">\n",
       "  <thead>\n",
       "    <tr style=\"text-align: right;\">\n",
       "      <th></th>\n",
       "      <th>gender</th>\n",
       "      <th>cholesterol</th>\n",
       "      <th>gluc</th>\n",
       "      <th>smoke</th>\n",
       "      <th>alco</th>\n",
       "      <th>active</th>\n",
       "      <th>cardio</th>\n",
       "    </tr>\n",
       "  </thead>\n",
       "  <tbody>\n",
       "    <tr>\n",
       "      <th>0</th>\n",
       "      <td>Male</td>\n",
       "      <td>normal</td>\n",
       "      <td>normal</td>\n",
       "      <td>no</td>\n",
       "      <td>no</td>\n",
       "      <td>yes</td>\n",
       "      <td>no</td>\n",
       "    </tr>\n",
       "    <tr>\n",
       "      <th>1</th>\n",
       "      <td>Female</td>\n",
       "      <td>well above normal</td>\n",
       "      <td>normal</td>\n",
       "      <td>no</td>\n",
       "      <td>no</td>\n",
       "      <td>yes</td>\n",
       "      <td>yes</td>\n",
       "    </tr>\n",
       "    <tr>\n",
       "      <th>2</th>\n",
       "      <td>Female</td>\n",
       "      <td>well above normal</td>\n",
       "      <td>normal</td>\n",
       "      <td>no</td>\n",
       "      <td>no</td>\n",
       "      <td>no</td>\n",
       "      <td>yes</td>\n",
       "    </tr>\n",
       "    <tr>\n",
       "      <th>3</th>\n",
       "      <td>Male</td>\n",
       "      <td>normal</td>\n",
       "      <td>normal</td>\n",
       "      <td>no</td>\n",
       "      <td>no</td>\n",
       "      <td>yes</td>\n",
       "      <td>yes</td>\n",
       "    </tr>\n",
       "    <tr>\n",
       "      <th>4</th>\n",
       "      <td>Female</td>\n",
       "      <td>normal</td>\n",
       "      <td>normal</td>\n",
       "      <td>no</td>\n",
       "      <td>no</td>\n",
       "      <td>no</td>\n",
       "      <td>no</td>\n",
       "    </tr>\n",
       "  </tbody>\n",
       "</table>\n",
       "</div>"
      ],
      "text/plain": [
       "   gender        cholesterol    gluc smoke alco active cardio\n",
       "0    Male             normal  normal    no   no    yes     no\n",
       "1  Female  well above normal  normal    no   no    yes    yes\n",
       "2  Female  well above normal  normal    no   no     no    yes\n",
       "3    Male             normal  normal    no   no    yes    yes\n",
       "4  Female             normal  normal    no   no     no     no"
      ]
     },
     "execution_count": 35,
     "metadata": {},
     "output_type": "execute_result"
    }
   ],
   "source": [
    "#sorting categorical values\n",
    "categorical_features = data.select_dtypes(include=[np.object])\n",
    "categorical_features.head()"
   ]
  },
  {
   "cell_type": "code",
   "execution_count": 36,
   "id": "1b308e4b",
   "metadata": {
    "colab": {
     "base_uri": "https://localhost:8080/",
     "height": 206
    },
    "id": "1b308e4b",
    "outputId": "202da5ee-34b0-4b5d-e99a-d9a11b21b37f"
   },
   "outputs": [
    {
     "data": {
      "text/html": [
       "<div>\n",
       "<style scoped>\n",
       "    .dataframe tbody tr th:only-of-type {\n",
       "        vertical-align: middle;\n",
       "    }\n",
       "\n",
       "    .dataframe tbody tr th {\n",
       "        vertical-align: top;\n",
       "    }\n",
       "\n",
       "    .dataframe thead th {\n",
       "        text-align: right;\n",
       "    }\n",
       "</style>\n",
       "<table border=\"1\" class=\"dataframe\">\n",
       "  <thead>\n",
       "    <tr style=\"text-align: right;\">\n",
       "      <th></th>\n",
       "      <th>age</th>\n",
       "      <th>height</th>\n",
       "      <th>weight</th>\n",
       "      <th>ap_hi</th>\n",
       "      <th>ap_lo</th>\n",
       "    </tr>\n",
       "  </thead>\n",
       "  <tbody>\n",
       "    <tr>\n",
       "      <th>0</th>\n",
       "      <td>50.0</td>\n",
       "      <td>168.0</td>\n",
       "      <td>62.0</td>\n",
       "      <td>110</td>\n",
       "      <td>80</td>\n",
       "    </tr>\n",
       "    <tr>\n",
       "      <th>1</th>\n",
       "      <td>55.0</td>\n",
       "      <td>156.0</td>\n",
       "      <td>85.0</td>\n",
       "      <td>140</td>\n",
       "      <td>90</td>\n",
       "    </tr>\n",
       "    <tr>\n",
       "      <th>2</th>\n",
       "      <td>52.0</td>\n",
       "      <td>165.0</td>\n",
       "      <td>64.0</td>\n",
       "      <td>130</td>\n",
       "      <td>70</td>\n",
       "    </tr>\n",
       "    <tr>\n",
       "      <th>3</th>\n",
       "      <td>48.0</td>\n",
       "      <td>169.0</td>\n",
       "      <td>82.0</td>\n",
       "      <td>150</td>\n",
       "      <td>100</td>\n",
       "    </tr>\n",
       "    <tr>\n",
       "      <th>4</th>\n",
       "      <td>48.0</td>\n",
       "      <td>156.0</td>\n",
       "      <td>56.0</td>\n",
       "      <td>100</td>\n",
       "      <td>60</td>\n",
       "    </tr>\n",
       "  </tbody>\n",
       "</table>\n",
       "</div>"
      ],
      "text/plain": [
       "    age  height  weight  ap_hi  ap_lo\n",
       "0  50.0   168.0    62.0    110     80\n",
       "1  55.0   156.0    85.0    140     90\n",
       "2  52.0   165.0    64.0    130     70\n",
       "3  48.0   169.0    82.0    150    100\n",
       "4  48.0   156.0    56.0    100     60"
      ]
     },
     "execution_count": 36,
     "metadata": {},
     "output_type": "execute_result"
    }
   ],
   "source": [
    "#sorting numerical values\n",
    "numerical_features = data.select_dtypes(include=[np.number])\n",
    "numerical_features.head()"
   ]
  },
  {
   "cell_type": "code",
   "execution_count": 37,
   "id": "c1657b22",
   "metadata": {
    "colab": {
     "base_uri": "https://localhost:8080/"
    },
    "id": "c1657b22",
    "outputId": "5d8fb17e-c96f-4e56-95a0-f96787b631a1"
   },
   "outputs": [
    {
     "data": {
      "text/plain": [
       "Index(['age', 'height', 'weight', 'ap_hi', 'ap_lo'], dtype='object')"
      ]
     },
     "execution_count": 37,
     "metadata": {},
     "output_type": "execute_result"
    }
   ],
   "source": [
    "numerical_features.columns"
   ]
  },
  {
   "cell_type": "markdown",
   "id": "66fd123c",
   "metadata": {
    "id": "66fd123c"
   },
   "source": [
    "#### Outlier detection"
   ]
  },
  {
   "cell_type": "markdown",
   "id": "28953740",
   "metadata": {
    "id": "28953740"
   },
   "source": [
    "#### age"
   ]
  },
  {
   "cell_type": "code",
   "execution_count": 38,
   "id": "899c5c33",
   "metadata": {
    "colab": {
     "base_uri": "https://localhost:8080/"
    },
    "id": "899c5c33",
    "outputId": "9aad0382-282d-49fc-f9a5-4a012dcb45a8"
   },
   "outputs": [
    {
     "name": "stdout",
     "output_type": "stream",
     "text": [
      "33.0\n",
      "73.0\n"
     ]
    }
   ],
   "source": [
    "#Managing Outliers\n",
    "Q1 = np.percentile(data['age'],25,interpolation='midpoint')\n",
    "Q2 = np.percentile(data['age'],50,interpolation='midpoint')\n",
    "Q3 = np.percentile(data['age'],75,interpolation='midpoint')\n",
    "IQR = Q3-Q1\n",
    "low_lim = Q1 - 1.5*IQR\n",
    "up_lim = Q3 + 1.5*IQR\n",
    "print(low_lim)\n",
    "print(up_lim)"
   ]
  },
  {
   "cell_type": "code",
   "execution_count": 39,
   "id": "6eea56fd",
   "metadata": {
    "colab": {
     "base_uri": "https://localhost:8080/"
    },
    "id": "6eea56fd",
    "outputId": "c92fb70f-e46f-43a5-bc77-c2034154fbd0"
   },
   "outputs": [
    {
     "data": {
      "text/plain": [
       "[30.0, 30.0, 30.0, 30.0]"
      ]
     },
     "execution_count": 39,
     "metadata": {},
     "output_type": "execute_result"
    }
   ],
   "source": [
    "outlier = []\n",
    "for x in data ['age']:\n",
    "    if((x > up_lim) or (x < low_lim)):\n",
    "        outlier.append(x)\n",
    "outlier"
   ]
  },
  {
   "cell_type": "markdown",
   "id": "11d8ffce",
   "metadata": {
    "id": "11d8ffce"
   },
   "source": [
    "#### height"
   ]
  },
  {
   "cell_type": "code",
   "execution_count": 40,
   "id": "f65f4b6f",
   "metadata": {
    "colab": {
     "base_uri": "https://localhost:8080/"
    },
    "id": "f65f4b6f",
    "outputId": "4c3ac894-721c-4a2b-d227-df126ee33925"
   },
   "outputs": [
    {
     "name": "stdout",
     "output_type": "stream",
     "text": [
      "142.5\n",
      "186.5\n"
     ]
    }
   ],
   "source": [
    "#Managing Outliers\n",
    "Q1 = np.percentile(data['height'],25,interpolation='midpoint')\n",
    "Q2 = np.percentile(data['height'],50,interpolation='midpoint')\n",
    "Q3 = np.percentile(data['height'],75,interpolation='midpoint')\n",
    "IQR = Q3-Q1\n",
    "low_lim = Q1 - 1.5*IQR\n",
    "up_lim = Q3 + 1.5*IQR\n",
    "print(low_lim)\n",
    "print(up_lim)"
   ]
  },
  {
   "cell_type": "code",
   "execution_count": 41,
   "id": "11138d41",
   "metadata": {
    "colab": {
     "base_uri": "https://localhost:8080/"
    },
    "id": "11138d41",
    "outputId": "b2c59846-4b04-4da5-9afd-3e32f4457f97"
   },
   "outputs": [
    {
     "data": {
      "text/plain": [
       "519"
      ]
     },
     "execution_count": 41,
     "metadata": {},
     "output_type": "execute_result"
    }
   ],
   "source": [
    "outlier = []\n",
    "for x in data ['height']:\n",
    "    if((x > up_lim) or (x < low_lim)):\n",
    "        outlier.append(x)\n",
    "outlier\n",
    "len(outlier)"
   ]
  },
  {
   "cell_type": "code",
   "execution_count": 42,
   "id": "67a90779",
   "metadata": {
    "colab": {
     "base_uri": "https://localhost:8080/",
     "height": 424
    },
    "id": "67a90779",
    "outputId": "f5e506cf-4d98-4ffd-a39d-653c58a4eea1"
   },
   "outputs": [
    {
     "data": {
      "text/html": [
       "<div>\n",
       "<style scoped>\n",
       "    .dataframe tbody tr th:only-of-type {\n",
       "        vertical-align: middle;\n",
       "    }\n",
       "\n",
       "    .dataframe tbody tr th {\n",
       "        vertical-align: top;\n",
       "    }\n",
       "\n",
       "    .dataframe thead th {\n",
       "        text-align: right;\n",
       "    }\n",
       "</style>\n",
       "<table border=\"1\" class=\"dataframe\">\n",
       "  <thead>\n",
       "    <tr style=\"text-align: right;\">\n",
       "      <th></th>\n",
       "      <th>age</th>\n",
       "      <th>gender</th>\n",
       "      <th>height</th>\n",
       "      <th>weight</th>\n",
       "      <th>ap_hi</th>\n",
       "      <th>ap_lo</th>\n",
       "      <th>cholesterol</th>\n",
       "      <th>gluc</th>\n",
       "      <th>smoke</th>\n",
       "      <th>alco</th>\n",
       "      <th>active</th>\n",
       "      <th>cardio</th>\n",
       "    </tr>\n",
       "  </thead>\n",
       "  <tbody>\n",
       "    <tr>\n",
       "      <th>224</th>\n",
       "      <td>60.0</td>\n",
       "      <td>Male</td>\n",
       "      <td>76.0</td>\n",
       "      <td>55.0</td>\n",
       "      <td>120</td>\n",
       "      <td>80</td>\n",
       "      <td>normal</td>\n",
       "      <td>normal</td>\n",
       "      <td>no</td>\n",
       "      <td>no</td>\n",
       "      <td>yes</td>\n",
       "      <td>no</td>\n",
       "    </tr>\n",
       "    <tr>\n",
       "      <th>3420</th>\n",
       "      <td>40.0</td>\n",
       "      <td>Female</td>\n",
       "      <td>100.0</td>\n",
       "      <td>70.0</td>\n",
       "      <td>100</td>\n",
       "      <td>70</td>\n",
       "      <td>normal</td>\n",
       "      <td>normal</td>\n",
       "      <td>no</td>\n",
       "      <td>no</td>\n",
       "      <td>yes</td>\n",
       "      <td>no</td>\n",
       "    </tr>\n",
       "    <tr>\n",
       "      <th>3735</th>\n",
       "      <td>48.0</td>\n",
       "      <td>Female</td>\n",
       "      <td>120.0</td>\n",
       "      <td>70.0</td>\n",
       "      <td>120</td>\n",
       "      <td>70</td>\n",
       "      <td>normal</td>\n",
       "      <td>normal</td>\n",
       "      <td>no</td>\n",
       "      <td>no</td>\n",
       "      <td>yes</td>\n",
       "      <td>no</td>\n",
       "    </tr>\n",
       "    <tr>\n",
       "      <th>3752</th>\n",
       "      <td>42.0</td>\n",
       "      <td>Female</td>\n",
       "      <td>120.0</td>\n",
       "      <td>30.0</td>\n",
       "      <td>110</td>\n",
       "      <td>70</td>\n",
       "      <td>normal</td>\n",
       "      <td>normal</td>\n",
       "      <td>no</td>\n",
       "      <td>no</td>\n",
       "      <td>yes</td>\n",
       "      <td>no</td>\n",
       "    </tr>\n",
       "    <tr>\n",
       "      <th>4212</th>\n",
       "      <td>44.0</td>\n",
       "      <td>Female</td>\n",
       "      <td>120.0</td>\n",
       "      <td>80.0</td>\n",
       "      <td>120</td>\n",
       "      <td>80</td>\n",
       "      <td>normal</td>\n",
       "      <td>normal</td>\n",
       "      <td>no</td>\n",
       "      <td>no</td>\n",
       "      <td>yes</td>\n",
       "      <td>no</td>\n",
       "    </tr>\n",
       "    <tr>\n",
       "      <th>...</th>\n",
       "      <td>...</td>\n",
       "      <td>...</td>\n",
       "      <td>...</td>\n",
       "      <td>...</td>\n",
       "      <td>...</td>\n",
       "      <td>...</td>\n",
       "      <td>...</td>\n",
       "      <td>...</td>\n",
       "      <td>...</td>\n",
       "      <td>...</td>\n",
       "      <td>...</td>\n",
       "      <td>...</td>\n",
       "    </tr>\n",
       "    <tr>\n",
       "      <th>65302</th>\n",
       "      <td>51.0</td>\n",
       "      <td>Female</td>\n",
       "      <td>99.0</td>\n",
       "      <td>60.0</td>\n",
       "      <td>90</td>\n",
       "      <td>60</td>\n",
       "      <td>normal</td>\n",
       "      <td>normal</td>\n",
       "      <td>no</td>\n",
       "      <td>no</td>\n",
       "      <td>yes</td>\n",
       "      <td>no</td>\n",
       "    </tr>\n",
       "    <tr>\n",
       "      <th>66023</th>\n",
       "      <td>40.0</td>\n",
       "      <td>Female</td>\n",
       "      <td>120.0</td>\n",
       "      <td>80.0</td>\n",
       "      <td>120</td>\n",
       "      <td>70</td>\n",
       "      <td>above normal</td>\n",
       "      <td>normal</td>\n",
       "      <td>no</td>\n",
       "      <td>no</td>\n",
       "      <td>yes</td>\n",
       "      <td>no</td>\n",
       "    </tr>\n",
       "    <tr>\n",
       "      <th>66479</th>\n",
       "      <td>46.0</td>\n",
       "      <td>Male</td>\n",
       "      <td>110.0</td>\n",
       "      <td>90.0</td>\n",
       "      <td>110</td>\n",
       "      <td>90</td>\n",
       "      <td>normal</td>\n",
       "      <td>normal</td>\n",
       "      <td>no</td>\n",
       "      <td>no</td>\n",
       "      <td>yes</td>\n",
       "      <td>no</td>\n",
       "    </tr>\n",
       "    <tr>\n",
       "      <th>66643</th>\n",
       "      <td>52.0</td>\n",
       "      <td>Female</td>\n",
       "      <td>57.0</td>\n",
       "      <td>61.0</td>\n",
       "      <td>130</td>\n",
       "      <td>90</td>\n",
       "      <td>normal</td>\n",
       "      <td>normal</td>\n",
       "      <td>no</td>\n",
       "      <td>no</td>\n",
       "      <td>yes</td>\n",
       "      <td>yes</td>\n",
       "    </tr>\n",
       "    <tr>\n",
       "      <th>69052</th>\n",
       "      <td>56.0</td>\n",
       "      <td>Male</td>\n",
       "      <td>120.0</td>\n",
       "      <td>80.0</td>\n",
       "      <td>140</td>\n",
       "      <td>90</td>\n",
       "      <td>normal</td>\n",
       "      <td>above normal</td>\n",
       "      <td>no</td>\n",
       "      <td>no</td>\n",
       "      <td>yes</td>\n",
       "      <td>yes</td>\n",
       "    </tr>\n",
       "  </tbody>\n",
       "</table>\n",
       "<p>87 rows × 12 columns</p>\n",
       "</div>"
      ],
      "text/plain": [
       "        age  gender  height  weight  ap_hi  ap_lo   cholesterol          gluc  \\\n",
       "224    60.0    Male    76.0    55.0    120     80        normal        normal   \n",
       "3420   40.0  Female   100.0    70.0    100     70        normal        normal   \n",
       "3735   48.0  Female   120.0    70.0    120     70        normal        normal   \n",
       "3752   42.0  Female   120.0    30.0    110     70        normal        normal   \n",
       "4212   44.0  Female   120.0    80.0    120     80        normal        normal   \n",
       "...     ...     ...     ...     ...    ...    ...           ...           ...   \n",
       "65302  51.0  Female    99.0    60.0     90     60        normal        normal   \n",
       "66023  40.0  Female   120.0    80.0    120     70  above normal        normal   \n",
       "66479  46.0    Male   110.0    90.0    110     90        normal        normal   \n",
       "66643  52.0  Female    57.0    61.0    130     90        normal        normal   \n",
       "69052  56.0    Male   120.0    80.0    140     90        normal  above normal   \n",
       "\n",
       "      smoke alco active cardio  \n",
       "224      no   no    yes     no  \n",
       "3420     no   no    yes     no  \n",
       "3735     no   no    yes     no  \n",
       "3752     no   no    yes     no  \n",
       "4212     no   no    yes     no  \n",
       "...     ...  ...    ...    ...  \n",
       "65302    no   no    yes     no  \n",
       "66023    no   no    yes     no  \n",
       "66479    no   no    yes     no  \n",
       "66643    no   no    yes    yes  \n",
       "69052    no   no    yes    yes  \n",
       "\n",
       "[87 rows x 12 columns]"
      ]
     },
     "execution_count": 42,
     "metadata": {},
     "output_type": "execute_result"
    }
   ],
   "source": [
    "data[data['height'] < 125]"
   ]
  },
  {
   "cell_type": "code",
   "execution_count": 43,
   "id": "5f9caec8",
   "metadata": {
    "id": "5f9caec8"
   },
   "outputs": [],
   "source": [
    "data=data[data['height']>= 125]"
   ]
  },
  {
   "cell_type": "code",
   "execution_count": 44,
   "id": "165958c2",
   "metadata": {
    "colab": {
     "base_uri": "https://localhost:8080/",
     "height": 112
    },
    "id": "165958c2",
    "outputId": "fce61fcb-c873-4d5f-e0a2-693c227a4e5f"
   },
   "outputs": [
    {
     "data": {
      "text/html": [
       "<div>\n",
       "<style scoped>\n",
       "    .dataframe tbody tr th:only-of-type {\n",
       "        vertical-align: middle;\n",
       "    }\n",
       "\n",
       "    .dataframe tbody tr th {\n",
       "        vertical-align: top;\n",
       "    }\n",
       "\n",
       "    .dataframe thead th {\n",
       "        text-align: right;\n",
       "    }\n",
       "</style>\n",
       "<table border=\"1\" class=\"dataframe\">\n",
       "  <thead>\n",
       "    <tr style=\"text-align: right;\">\n",
       "      <th></th>\n",
       "      <th>age</th>\n",
       "      <th>gender</th>\n",
       "      <th>height</th>\n",
       "      <th>weight</th>\n",
       "      <th>ap_hi</th>\n",
       "      <th>ap_lo</th>\n",
       "      <th>cholesterol</th>\n",
       "      <th>gluc</th>\n",
       "      <th>smoke</th>\n",
       "      <th>alco</th>\n",
       "      <th>active</th>\n",
       "      <th>cardio</th>\n",
       "    </tr>\n",
       "  </thead>\n",
       "  <tbody>\n",
       "    <tr>\n",
       "      <th>6486</th>\n",
       "      <td>58.0</td>\n",
       "      <td>Female</td>\n",
       "      <td>250.0</td>\n",
       "      <td>86.0</td>\n",
       "      <td>140</td>\n",
       "      <td>100</td>\n",
       "      <td>well above normal</td>\n",
       "      <td>normal</td>\n",
       "      <td>no</td>\n",
       "      <td>no</td>\n",
       "      <td>yes</td>\n",
       "      <td>yes</td>\n",
       "    </tr>\n",
       "    <tr>\n",
       "      <th>21628</th>\n",
       "      <td>52.0</td>\n",
       "      <td>Male</td>\n",
       "      <td>207.0</td>\n",
       "      <td>78.0</td>\n",
       "      <td>100</td>\n",
       "      <td>70</td>\n",
       "      <td>normal</td>\n",
       "      <td>normal</td>\n",
       "      <td>no</td>\n",
       "      <td>yes</td>\n",
       "      <td>yes</td>\n",
       "      <td>no</td>\n",
       "    </tr>\n",
       "  </tbody>\n",
       "</table>\n",
       "</div>"
      ],
      "text/plain": [
       "        age  gender  height  weight  ap_hi  ap_lo        cholesterol    gluc  \\\n",
       "6486   58.0  Female   250.0    86.0    140    100  well above normal  normal   \n",
       "21628  52.0    Male   207.0    78.0    100     70             normal  normal   \n",
       "\n",
       "      smoke alco active cardio  \n",
       "6486     no   no    yes    yes  \n",
       "21628    no  yes    yes     no  "
      ]
     },
     "execution_count": 44,
     "metadata": {},
     "output_type": "execute_result"
    }
   ],
   "source": [
    "data[data['height'] > 200]"
   ]
  },
  {
   "cell_type": "code",
   "execution_count": 45,
   "id": "b1116a6a",
   "metadata": {
    "id": "b1116a6a"
   },
   "outputs": [],
   "source": [
    "data.drop(index=9223,axis=1,inplace=True)"
   ]
  },
  {
   "cell_type": "markdown",
   "id": "7a0f6c58",
   "metadata": {
    "id": "7a0f6c58"
   },
   "source": [
    "#### weight"
   ]
  },
  {
   "cell_type": "code",
   "execution_count": 46,
   "id": "b839b7fb",
   "metadata": {
    "colab": {
     "base_uri": "https://localhost:8080/"
    },
    "id": "b839b7fb",
    "outputId": "3fd11cf7-e3ca-4563-97e9-487ae8b2d8af"
   },
   "outputs": [
    {
     "name": "stdout",
     "output_type": "stream",
     "text": [
      "39.5\n",
      "107.5\n"
     ]
    }
   ],
   "source": [
    "#Managing Outliers\n",
    "Q1 = np.percentile(data['weight'],25,interpolation='midpoint')\n",
    "Q2 = np.percentile(data['weight'],50,interpolation='midpoint')\n",
    "Q3 = np.percentile(data['weight'],75,interpolation='midpoint')\n",
    "IQR = Q3-Q1\n",
    "low_lim = Q1 - 1.5*IQR\n",
    "up_lim = Q3 + 1.5*IQR\n",
    "print(low_lim)\n",
    "print(up_lim)"
   ]
  },
  {
   "cell_type": "code",
   "execution_count": 47,
   "id": "960aeefe",
   "metadata": {
    "colab": {
     "base_uri": "https://localhost:8080/"
    },
    "id": "960aeefe",
    "outputId": "a9d106d0-d192-42ca-99af-d656d15682e7"
   },
   "outputs": [
    {
     "data": {
      "text/plain": [
       "1810"
      ]
     },
     "execution_count": 47,
     "metadata": {},
     "output_type": "execute_result"
    }
   ],
   "source": [
    "outlier = []\n",
    "for x in data ['weight']:\n",
    "    if((x > up_lim) or (x < low_lim)):\n",
    "        outlier.append(x)\n",
    "outlier\n",
    "len(outlier)"
   ]
  },
  {
   "cell_type": "code",
   "execution_count": 48,
   "id": "8253b50f",
   "metadata": {
    "id": "8253b50f"
   },
   "outputs": [],
   "source": [
    "data=data[data['weight']> 40]"
   ]
  },
  {
   "cell_type": "markdown",
   "id": "d479fe3d",
   "metadata": {
    "id": "d479fe3d"
   },
   "source": [
    "#### ap_hi"
   ]
  },
  {
   "cell_type": "code",
   "execution_count": 49,
   "id": "8aefc0a1",
   "metadata": {
    "colab": {
     "base_uri": "https://localhost:8080/"
    },
    "id": "8aefc0a1",
    "outputId": "50d6c3d0-8f1d-45ad-86e9-dcf7d065d02e"
   },
   "outputs": [
    {
     "name": "stdout",
     "output_type": "stream",
     "text": [
      "90.0\n",
      "170.0\n"
     ]
    }
   ],
   "source": [
    "#Managing Outliers\n",
    "Q1 = np.percentile(data['ap_hi'],25,interpolation='midpoint')\n",
    "Q2 = np.percentile(data['ap_hi'],50,interpolation='midpoint')\n",
    "Q3 = np.percentile(data['ap_hi'],75,interpolation='midpoint')\n",
    "IQR = Q3-Q1\n",
    "low_lim = Q1 - 1.5*IQR\n",
    "up_lim = Q3 + 1.5*IQR\n",
    "print(low_lim)\n",
    "print(up_lim)"
   ]
  },
  {
   "cell_type": "code",
   "execution_count": 50,
   "id": "8093ae52",
   "metadata": {
    "colab": {
     "base_uri": "https://localhost:8080/"
    },
    "id": "8093ae52",
    "outputId": "700ad413-a544-449b-cced-21f10e7f86f1"
   },
   "outputs": [
    {
     "data": {
      "text/plain": [
       "1429"
      ]
     },
     "execution_count": 50,
     "metadata": {},
     "output_type": "execute_result"
    }
   ],
   "source": [
    "outlier = []\n",
    "for x in data ['ap_hi']:\n",
    "    if((x > up_lim) or (x < low_lim)):\n",
    "        outlier.append(x)\n",
    "outlier\n",
    "len(outlier)"
   ]
  },
  {
   "cell_type": "markdown",
   "id": "7bf47bf4",
   "metadata": {
    "id": "7bf47bf4"
   },
   "source": [
    "#### ap_lo"
   ]
  },
  {
   "cell_type": "code",
   "execution_count": 51,
   "id": "76f42b6c",
   "metadata": {
    "colab": {
     "base_uri": "https://localhost:8080/"
    },
    "id": "76f42b6c",
    "outputId": "70bb68a8-4f65-46aa-a6a4-54d131fc5a9e"
   },
   "outputs": [
    {
     "name": "stdout",
     "output_type": "stream",
     "text": [
      "65.0\n",
      "105.0\n"
     ]
    }
   ],
   "source": [
    "#Managing Outliers\n",
    "Q1 = np.percentile(data['ap_lo'],25,interpolation='midpoint')\n",
    "Q2 = np.percentile(data['ap_lo'],50,interpolation='midpoint')\n",
    "Q3 = np.percentile(data['ap_lo'],75,interpolation='midpoint')\n",
    "IQR = Q3-Q1\n",
    "low_lim = Q1 - 1.5*IQR\n",
    "up_lim = Q3 + 1.5*IQR\n",
    "print(low_lim)\n",
    "print(up_lim)"
   ]
  },
  {
   "cell_type": "code",
   "execution_count": 52,
   "id": "7394e294",
   "metadata": {
    "colab": {
     "base_uri": "https://localhost:8080/"
    },
    "id": "7394e294",
    "outputId": "2371ee9c-c7e8-4690-ed1a-c2ac50477912"
   },
   "outputs": [
    {
     "data": {
      "text/plain": [
       "4601"
      ]
     },
     "execution_count": 52,
     "metadata": {},
     "output_type": "execute_result"
    }
   ],
   "source": [
    "outlier = []\n",
    "for x in data ['ap_lo']:\n",
    "    if((x > up_lim) or (x < low_lim)):\n",
    "        outlier.append(x)\n",
    "outlier\n",
    "len(outlier)"
   ]
  },
  {
   "cell_type": "code",
   "execution_count": 53,
   "id": "579f1144",
   "metadata": {
    "colab": {
     "base_uri": "https://localhost:8080/"
    },
    "id": "579f1144",
    "outputId": "59210c1f-11fb-4f98-93ce-7c55c8ecc24c"
   },
   "outputs": [
    {
     "data": {
      "text/plain": [
       "0.004110628911900772"
      ]
     },
     "execution_count": 53,
     "metadata": {},
     "output_type": "execute_result"
    }
   ],
   "source": [
    "## systolic pressure below 90 mmHg and above 180mmHg needs medical intervention\n",
    "critical_aphi = (data.ap_hi <70) | (data.ap_hi > 200)\n",
    "data[critical_aphi].ap_hi.count() / data.ap_hi.count()"
   ]
  },
  {
   "cell_type": "code",
   "execution_count": 54,
   "id": "6f46ae09",
   "metadata": {
    "id": "6f46ae09"
   },
   "outputs": [],
   "source": [
    "#dropping 0.4% data\n",
    "data.drop(data[critical_aphi].index, inplace=True)"
   ]
  },
  {
   "cell_type": "code",
   "execution_count": 55,
   "id": "a99f50f1",
   "metadata": {
    "colab": {
     "base_uri": "https://localhost:8080/"
    },
    "id": "a99f50f1",
    "outputId": "8946e1e4-1c4d-44d5-d55c-1752cf8ce97d"
   },
   "outputs": [
    {
     "data": {
      "text/plain": [
       "0.014913996433296899"
      ]
     },
     "execution_count": 55,
     "metadata": {},
     "output_type": "execute_result"
    }
   ],
   "source": [
    "## diastolic pressure below 60mmHg ang above 110mmHg is dangerous\n",
    "critical_aplo = (data.ap_lo <40) | (data.ap_lo > 130)\n",
    "data[critical_aplo].ap_lo.count() / data.ap_lo.count()"
   ]
  },
  {
   "cell_type": "code",
   "execution_count": 56,
   "id": "d6025d5b",
   "metadata": {
    "id": "d6025d5b"
   },
   "outputs": [],
   "source": [
    "#dropping 1.49% data\n",
    "data.drop(data[critical_aplo].index, inplace=True)"
   ]
  },
  {
   "cell_type": "code",
   "execution_count": 57,
   "id": "e15a1648",
   "metadata": {
    "colab": {
     "base_uri": "https://localhost:8080/"
    },
    "id": "e15a1648",
    "outputId": "94a373fc-532b-41fa-dab7-26327d9055f8",
    "scrolled": true
   },
   "outputs": [
    {
     "data": {
      "image/png": "[encoded data removed]",
      "text/plain": [
       "<Figure size 432x288 with 1 Axes>"
      ]
     },
     "metadata": {
      "needs_background": "light"
     },
     "output_type": "display_data"
    }
   ],
   "source": [
    "#plotting api_hi and api_lo\n",
    "plt.style.use('bmh')\n",
    "sns.scatterplot(x = 'ap_hi', y = 'ap_lo' , hue= 'cardio' , data = data,  s=40)\n",
    "plt.xticks(fontsize=11)\n",
    "plt.yticks(fontsize=11)\n",
    "plt.show()"
   ]
  },
  {
   "cell_type": "markdown",
   "id": "18203dde",
   "metadata": {
    "id": "18203dde"
   },
   "source": [
    "### BMI analysis"
   ]
  },
  {
   "cell_type": "code",
   "execution_count": 58,
   "id": "7a9808cf",
   "metadata": {
    "id": "7a9808cf"
   },
   "outputs": [],
   "source": [
    "data_bmi = data.copy()"
   ]
  },
  {
   "cell_type": "code",
   "execution_count": 59,
   "id": "beb0b9c3",
   "metadata": {
    "colab": {
     "base_uri": "https://localhost:8080/"
    },
    "id": "beb0b9c3",
    "outputId": "7befb824-2336-4102-c3f3-3a84c3c860db"
   },
   "outputs": [
    {
     "data": {
      "image/png": "[encoded data removed]",
      "text/plain": [
       "<Figure size 432x288 with 1 Axes>"
      ]
     },
     "metadata": {
      "needs_background": "light"
     },
     "output_type": "display_data"
    }
   ],
   "source": [
    "sns.scatterplot(x ='height', y ='weight', hue = 'cardio', data= data_bmi);"
   ]
  },
  {
   "cell_type": "code",
   "execution_count": 60,
   "id": "c76e2808",
   "metadata": {
    "id": "c76e2808"
   },
   "outputs": [],
   "source": [
    "#create bmi feature\n",
    "def BMI(data):\n",
    "    return round(data['weight'] / (data ['height'] /100)**2,2)\n",
    "data_bmi['BMI'] = data_bmi.apply(BMI, axis=1)"
   ]
  },
  {
   "cell_type": "code",
   "execution_count": 61,
   "id": "bf6e3b60",
   "metadata": {
    "colab": {
     "base_uri": "https://localhost:8080/"
    },
    "id": "bf6e3b60",
    "outputId": "7c57ca9a-9ed3-4f3c-857d-1f33b2e10d95"
   },
   "outputs": [
    {
     "data": {
      "text/html": [
       "<div>\n",
       "<style scoped>\n",
       "    .dataframe tbody tr th:only-of-type {\n",
       "        vertical-align: middle;\n",
       "    }\n",
       "\n",
       "    .dataframe tbody tr th {\n",
       "        vertical-align: top;\n",
       "    }\n",
       "\n",
       "    .dataframe thead th {\n",
       "        text-align: right;\n",
       "    }\n",
       "</style>\n",
       "<table border=\"1\" class=\"dataframe\">\n",
       "  <thead>\n",
       "    <tr style=\"text-align: right;\">\n",
       "      <th></th>\n",
       "      <th>count</th>\n",
       "      <th>mean</th>\n",
       "      <th>std</th>\n",
       "      <th>min</th>\n",
       "      <th>25%</th>\n",
       "      <th>50%</th>\n",
       "      <th>75%</th>\n",
       "      <th>max</th>\n",
       "    </tr>\n",
       "  </thead>\n",
       "  <tbody>\n",
       "    <tr>\n",
       "      <th>age</th>\n",
       "      <td>68495.0</td>\n",
       "      <td>53.326374</td>\n",
       "      <td>6.766855</td>\n",
       "      <td>30.00</td>\n",
       "      <td>48.00</td>\n",
       "      <td>54.00</td>\n",
       "      <td>58.00</td>\n",
       "      <td>65.00</td>\n",
       "    </tr>\n",
       "    <tr>\n",
       "      <th>height</th>\n",
       "      <td>68495.0</td>\n",
       "      <td>164.450491</td>\n",
       "      <td>7.843091</td>\n",
       "      <td>125.00</td>\n",
       "      <td>159.00</td>\n",
       "      <td>165.00</td>\n",
       "      <td>170.00</td>\n",
       "      <td>250.00</td>\n",
       "    </tr>\n",
       "    <tr>\n",
       "      <th>weight</th>\n",
       "      <td>68495.0</td>\n",
       "      <td>74.145813</td>\n",
       "      <td>14.235572</td>\n",
       "      <td>41.00</td>\n",
       "      <td>65.00</td>\n",
       "      <td>72.00</td>\n",
       "      <td>82.00</td>\n",
       "      <td>200.00</td>\n",
       "    </tr>\n",
       "    <tr>\n",
       "      <th>ap_hi</th>\n",
       "      <td>68495.0</td>\n",
       "      <td>126.567633</td>\n",
       "      <td>16.522300</td>\n",
       "      <td>70.00</td>\n",
       "      <td>120.00</td>\n",
       "      <td>120.00</td>\n",
       "      <td>140.00</td>\n",
       "      <td>200.00</td>\n",
       "    </tr>\n",
       "    <tr>\n",
       "      <th>ap_lo</th>\n",
       "      <td>68495.0</td>\n",
       "      <td>81.311176</td>\n",
       "      <td>9.403733</td>\n",
       "      <td>40.00</td>\n",
       "      <td>80.00</td>\n",
       "      <td>80.00</td>\n",
       "      <td>90.00</td>\n",
       "      <td>130.00</td>\n",
       "    </tr>\n",
       "    <tr>\n",
       "      <th>BMI</th>\n",
       "      <td>68495.0</td>\n",
       "      <td>27.453443</td>\n",
       "      <td>5.201163</td>\n",
       "      <td>13.76</td>\n",
       "      <td>23.88</td>\n",
       "      <td>26.35</td>\n",
       "      <td>30.12</td>\n",
       "      <td>106.88</td>\n",
       "    </tr>\n",
       "  </tbody>\n",
       "</table>\n",
       "</div>"
      ],
      "text/plain": [
       "          count        mean        std     min     25%     50%     75%     max\n",
       "age     68495.0   53.326374   6.766855   30.00   48.00   54.00   58.00   65.00\n",
       "height  68495.0  164.450491   7.843091  125.00  159.00  165.00  170.00  250.00\n",
       "weight  68495.0   74.145813  14.235572   41.00   65.00   72.00   82.00  200.00\n",
       "ap_hi   68495.0  126.567633  16.522300   70.00  120.00  120.00  140.00  200.00\n",
       "ap_lo   68495.0   81.311176   9.403733   40.00   80.00   80.00   90.00  130.00\n",
       "BMI     68495.0   27.453443   5.201163   13.76   23.88   26.35   30.12  106.88"
      ]
     },
     "execution_count": 61,
     "metadata": {},
     "output_type": "execute_result"
    }
   ],
   "source": [
    "data_bmi.describe().T"
   ]
  },
  {
   "cell_type": "markdown",
   "id": "6ce0faee",
   "metadata": {
    "id": "6ce0faee"
   },
   "source": [
    "### Minmax Scaler"
   ]
  },
  {
   "cell_type": "code",
   "execution_count": 62,
   "id": "5080da22",
   "metadata": {
    "colab": {
     "base_uri": "https://localhost:8080/"
    },
    "id": "5080da22",
    "outputId": "2cfb5bf1-75cb-4298-fae1-0229cd0a6839"
   },
   "outputs": [
    {
     "data": {
      "text/plain": [
       "Index(['age', 'height', 'weight', 'ap_hi', 'ap_lo'], dtype='object')"
      ]
     },
     "execution_count": 62,
     "metadata": {},
     "output_type": "execute_result"
    }
   ],
   "source": [
    "data_num = data.select_dtypes(include=[np.number])\n",
    "data_num.columns"
   ]
  },
  {
   "cell_type": "markdown",
   "id": "b5555c6d",
   "metadata": {
    "id": "b5555c6d"
   },
   "source": [
    "### Encoding"
   ]
  },
  {
   "cell_type": "code",
   "execution_count": 63,
   "id": "8944269e",
   "metadata": {
    "colab": {
     "base_uri": "https://localhost:8080/"
    },
    "id": "8944269e",
    "outputId": "3e12ffa0-40f3-4a94-cb2e-321cb600de2f"
   },
   "outputs": [
    {
     "data": {
      "text/plain": [
       "Index(['gender', 'cholesterol', 'gluc', 'smoke', 'alco', 'active', 'cardio'], dtype='object')"
      ]
     },
     "execution_count": 63,
     "metadata": {},
     "output_type": "execute_result"
    }
   ],
   "source": [
    "categorical_features.columns"
   ]
  },
  {
   "cell_type": "code",
   "execution_count": 64,
   "id": "2dda7435",
   "metadata": {
    "colab": {
     "base_uri": "https://localhost:8080/",
     "height": 206
    },
    "id": "2dda7435",
    "outputId": "cc83a327-fd8d-4036-88c0-4bbc0ecea8b2"
   },
   "outputs": [
    {
     "data": {
      "text/html": [
       "<div>\n",
       "<style scoped>\n",
       "    .dataframe tbody tr th:only-of-type {\n",
       "        vertical-align: middle;\n",
       "    }\n",
       "\n",
       "    .dataframe tbody tr th {\n",
       "        vertical-align: top;\n",
       "    }\n",
       "\n",
       "    .dataframe thead th {\n",
       "        text-align: right;\n",
       "    }\n",
       "</style>\n",
       "<table border=\"1\" class=\"dataframe\">\n",
       "  <thead>\n",
       "    <tr style=\"text-align: right;\">\n",
       "      <th></th>\n",
       "      <th>age</th>\n",
       "      <th>gender</th>\n",
       "      <th>height</th>\n",
       "      <th>weight</th>\n",
       "      <th>ap_hi</th>\n",
       "      <th>ap_lo</th>\n",
       "      <th>cholesterol</th>\n",
       "      <th>gluc</th>\n",
       "      <th>smoke</th>\n",
       "      <th>alco</th>\n",
       "      <th>active</th>\n",
       "      <th>cardio</th>\n",
       "    </tr>\n",
       "  </thead>\n",
       "  <tbody>\n",
       "    <tr>\n",
       "      <th>0</th>\n",
       "      <td>50.0</td>\n",
       "      <td>1</td>\n",
       "      <td>168.0</td>\n",
       "      <td>62.0</td>\n",
       "      <td>110</td>\n",
       "      <td>80</td>\n",
       "      <td>1</td>\n",
       "      <td>1</td>\n",
       "      <td>0</td>\n",
       "      <td>0</td>\n",
       "      <td>1</td>\n",
       "      <td>0</td>\n",
       "    </tr>\n",
       "    <tr>\n",
       "      <th>1</th>\n",
       "      <td>55.0</td>\n",
       "      <td>0</td>\n",
       "      <td>156.0</td>\n",
       "      <td>85.0</td>\n",
       "      <td>140</td>\n",
       "      <td>90</td>\n",
       "      <td>2</td>\n",
       "      <td>1</td>\n",
       "      <td>0</td>\n",
       "      <td>0</td>\n",
       "      <td>1</td>\n",
       "      <td>1</td>\n",
       "    </tr>\n",
       "    <tr>\n",
       "      <th>2</th>\n",
       "      <td>52.0</td>\n",
       "      <td>0</td>\n",
       "      <td>165.0</td>\n",
       "      <td>64.0</td>\n",
       "      <td>130</td>\n",
       "      <td>70</td>\n",
       "      <td>2</td>\n",
       "      <td>1</td>\n",
       "      <td>0</td>\n",
       "      <td>0</td>\n",
       "      <td>0</td>\n",
       "      <td>1</td>\n",
       "    </tr>\n",
       "    <tr>\n",
       "      <th>3</th>\n",
       "      <td>48.0</td>\n",
       "      <td>1</td>\n",
       "      <td>169.0</td>\n",
       "      <td>82.0</td>\n",
       "      <td>150</td>\n",
       "      <td>100</td>\n",
       "      <td>1</td>\n",
       "      <td>1</td>\n",
       "      <td>0</td>\n",
       "      <td>0</td>\n",
       "      <td>1</td>\n",
       "      <td>1</td>\n",
       "    </tr>\n",
       "    <tr>\n",
       "      <th>4</th>\n",
       "      <td>48.0</td>\n",
       "      <td>0</td>\n",
       "      <td>156.0</td>\n",
       "      <td>56.0</td>\n",
       "      <td>100</td>\n",
       "      <td>60</td>\n",
       "      <td>1</td>\n",
       "      <td>1</td>\n",
       "      <td>0</td>\n",
       "      <td>0</td>\n",
       "      <td>0</td>\n",
       "      <td>0</td>\n",
       "    </tr>\n",
       "  </tbody>\n",
       "</table>\n",
       "</div>"
      ],
      "text/plain": [
       "    age  gender  height  weight  ap_hi  ap_lo  cholesterol  gluc  smoke  alco  \\\n",
       "0  50.0       1   168.0    62.0    110     80            1     1      0     0   \n",
       "1  55.0       0   156.0    85.0    140     90            2     1      0     0   \n",
       "2  52.0       0   165.0    64.0    130     70            2     1      0     0   \n",
       "3  48.0       1   169.0    82.0    150    100            1     1      0     0   \n",
       "4  48.0       0   156.0    56.0    100     60            1     1      0     0   \n",
       "\n",
       "   active  cardio  \n",
       "0       1       0  \n",
       "1       1       1  \n",
       "2       0       1  \n",
       "3       1       1  \n",
       "4       0       0  "
      ]
     },
     "execution_count": 64,
     "metadata": {},
     "output_type": "execute_result"
    }
   ],
   "source": [
    "#apply label encoding\n",
    "from sklearn.preprocessing import LabelEncoder\n",
    "columns =['gender', 'cholesterol', 'gluc', 'smoke', 'alco', 'active', 'cardio']\n",
    "label_encoder = LabelEncoder()\n",
    "for i in columns:\n",
    "    data[i]=label_encoder.fit_transform(data[i])\n",
    "data.head()"
   ]
  },
  {
   "cell_type": "code",
   "execution_count": 65,
   "id": "e7086c25",
   "metadata": {
    "colab": {
     "base_uri": "https://localhost:8080/",
     "height": 484
    },
    "id": "e7086c25",
    "outputId": "0a4d68c1-54b7-4f4f-c10f-9a0066c2a806"
   },
   "outputs": [
    {
     "data": {
      "image/png": "[encoded data removed]",
      "text/plain": [
       "<Figure size 1440x576 with 2 Axes>"
      ]
     },
     "metadata": {
      "needs_background": "light"
     },
     "output_type": "display_data"
    }
   ],
   "source": [
    "#plot correlation matrix\n",
    "corrmatrix = data.corr()\n",
    "plt.subplots(figsize=(20,8))\n",
    "sns.heatmap(corrmatrix,annot=True,cmap='YlGnBu');"
   ]
  },
  {
   "cell_type": "code",
   "execution_count": 66,
   "id": "f11a78d1",
   "metadata": {
    "colab": {
     "base_uri": "https://localhost:8080/"
    },
    "id": "f11a78d1",
    "outputId": "d24906e3-7b0f-4a4c-a1db-20c01bf04c92"
   },
   "outputs": [
    {
     "data": {
      "text/plain": [
       "age            float64\n",
       "gender           int32\n",
       "height         float64\n",
       "weight         float64\n",
       "ap_hi            int64\n",
       "ap_lo            int64\n",
       "cholesterol      int32\n",
       "gluc             int32\n",
       "smoke            int32\n",
       "alco             int32\n",
       "active           int32\n",
       "cardio           int32\n",
       "dtype: object"
      ]
     },
     "execution_count": 66,
     "metadata": {},
     "output_type": "execute_result"
    }
   ],
   "source": [
    "data.dtypes"
   ]
  },
  {
   "cell_type": "code",
   "execution_count": 67,
   "id": "1cb0efa1",
   "metadata": {
    "colab": {
     "base_uri": "https://localhost:8080/"
    },
    "id": "1cb0efa1",
    "outputId": "f370bf7f-7bde-4ca6-ef43-ffc8a0cf15ef",
    "scrolled": false
   },
   "outputs": [
    {
     "data": {
      "text/plain": [
       "Index(['age', 'gender', 'height', 'weight', 'ap_hi', 'ap_lo', 'cholesterol',\n",
       "       'gluc', 'smoke', 'alco', 'active', 'cardio'],\n",
       "      dtype='object')"
      ]
     },
     "execution_count": 67,
     "metadata": {},
     "output_type": "execute_result"
    }
   ],
   "source": [
    "data.columns"
   ]
  },
  {
   "cell_type": "code",
   "execution_count": 68,
   "id": "70edfaa8",
   "metadata": {
    "id": "70edfaa8"
   },
   "outputs": [],
   "source": [
    "#converting to dataframe\n",
    "data_cat = data.drop(data_num,axis=1)\n",
    "data_cat = pd.DataFrame(data_cat)"
   ]
  },
  {
   "cell_type": "code",
   "execution_count": 69,
   "id": "b9b04cd1",
   "metadata": {
    "colab": {
     "base_uri": "https://localhost:8080/"
    },
    "id": "b9b04cd1",
    "outputId": "2d48b2d0-6084-489d-8f94-507a64eaa0f5"
   },
   "outputs": [
    {
     "data": {
      "text/plain": [
       "Index(['gender', 'cholesterol', 'gluc', 'smoke', 'alco', 'active', 'cardio'], dtype='object')"
      ]
     },
     "execution_count": 69,
     "metadata": {},
     "output_type": "execute_result"
    }
   ],
   "source": [
    "data_cat.columns"
   ]
  },
  {
   "cell_type": "code",
   "execution_count": 70,
   "id": "498fef35",
   "metadata": {
    "colab": {
     "base_uri": "https://localhost:8080/"
    },
    "id": "498fef35",
    "outputId": "96f7cbae-cc8b-4780-dbed-dd0e3b1052f9"
   },
   "outputs": [
    {
     "data": {
      "text/plain": [
       "Index(['age', 'height', 'weight', 'ap_hi', 'ap_lo'], dtype='object')"
      ]
     },
     "execution_count": 70,
     "metadata": {},
     "output_type": "execute_result"
    }
   ],
   "source": [
    "data_num.columns"
   ]
  },
  {
   "cell_type": "code",
   "execution_count": 71,
   "id": "4c99cc1e",
   "metadata": {
    "colab": {
     "base_uri": "https://localhost:8080/",
     "height": 206
    },
    "id": "4c99cc1e",
    "outputId": "cae32483-f428-407b-dadb-044595970efb"
   },
   "outputs": [
    {
     "data": {
      "text/html": [
       "<div>\n",
       "<style scoped>\n",
       "    .dataframe tbody tr th:only-of-type {\n",
       "        vertical-align: middle;\n",
       "    }\n",
       "\n",
       "    .dataframe tbody tr th {\n",
       "        vertical-align: top;\n",
       "    }\n",
       "\n",
       "    .dataframe thead th {\n",
       "        text-align: right;\n",
       "    }\n",
       "</style>\n",
       "<table border=\"1\" class=\"dataframe\">\n",
       "  <thead>\n",
       "    <tr style=\"text-align: right;\">\n",
       "      <th></th>\n",
       "      <th>age</th>\n",
       "      <th>height</th>\n",
       "      <th>weight</th>\n",
       "      <th>ap_hi</th>\n",
       "      <th>ap_lo</th>\n",
       "      <th>gender</th>\n",
       "      <th>cholesterol</th>\n",
       "      <th>gluc</th>\n",
       "      <th>smoke</th>\n",
       "      <th>alco</th>\n",
       "      <th>active</th>\n",
       "      <th>cardio</th>\n",
       "    </tr>\n",
       "  </thead>\n",
       "  <tbody>\n",
       "    <tr>\n",
       "      <th>0</th>\n",
       "      <td>50.0</td>\n",
       "      <td>168.0</td>\n",
       "      <td>62.0</td>\n",
       "      <td>110</td>\n",
       "      <td>80</td>\n",
       "      <td>1</td>\n",
       "      <td>1</td>\n",
       "      <td>1</td>\n",
       "      <td>0</td>\n",
       "      <td>0</td>\n",
       "      <td>1</td>\n",
       "      <td>0</td>\n",
       "    </tr>\n",
       "    <tr>\n",
       "      <th>1</th>\n",
       "      <td>55.0</td>\n",
       "      <td>156.0</td>\n",
       "      <td>85.0</td>\n",
       "      <td>140</td>\n",
       "      <td>90</td>\n",
       "      <td>0</td>\n",
       "      <td>2</td>\n",
       "      <td>1</td>\n",
       "      <td>0</td>\n",
       "      <td>0</td>\n",
       "      <td>1</td>\n",
       "      <td>1</td>\n",
       "    </tr>\n",
       "    <tr>\n",
       "      <th>2</th>\n",
       "      <td>52.0</td>\n",
       "      <td>165.0</td>\n",
       "      <td>64.0</td>\n",
       "      <td>130</td>\n",
       "      <td>70</td>\n",
       "      <td>0</td>\n",
       "      <td>2</td>\n",
       "      <td>1</td>\n",
       "      <td>0</td>\n",
       "      <td>0</td>\n",
       "      <td>0</td>\n",
       "      <td>1</td>\n",
       "    </tr>\n",
       "    <tr>\n",
       "      <th>3</th>\n",
       "      <td>48.0</td>\n",
       "      <td>169.0</td>\n",
       "      <td>82.0</td>\n",
       "      <td>150</td>\n",
       "      <td>100</td>\n",
       "      <td>1</td>\n",
       "      <td>1</td>\n",
       "      <td>1</td>\n",
       "      <td>0</td>\n",
       "      <td>0</td>\n",
       "      <td>1</td>\n",
       "      <td>1</td>\n",
       "    </tr>\n",
       "    <tr>\n",
       "      <th>4</th>\n",
       "      <td>48.0</td>\n",
       "      <td>156.0</td>\n",
       "      <td>56.0</td>\n",
       "      <td>100</td>\n",
       "      <td>60</td>\n",
       "      <td>0</td>\n",
       "      <td>1</td>\n",
       "      <td>1</td>\n",
       "      <td>0</td>\n",
       "      <td>0</td>\n",
       "      <td>0</td>\n",
       "      <td>0</td>\n",
       "    </tr>\n",
       "  </tbody>\n",
       "</table>\n",
       "</div>"
      ],
      "text/plain": [
       "    age  height  weight  ap_hi  ap_lo  gender  cholesterol  gluc  smoke  alco  \\\n",
       "0  50.0   168.0    62.0    110     80       1            1     1      0     0   \n",
       "1  55.0   156.0    85.0    140     90       0            2     1      0     0   \n",
       "2  52.0   165.0    64.0    130     70       0            2     1      0     0   \n",
       "3  48.0   169.0    82.0    150    100       1            1     1      0     0   \n",
       "4  48.0   156.0    56.0    100     60       0            1     1      0     0   \n",
       "\n",
       "   active  cardio  \n",
       "0       1       0  \n",
       "1       1       1  \n",
       "2       0       1  \n",
       "3       1       1  \n",
       "4       0       0  "
      ]
     },
     "execution_count": 71,
     "metadata": {},
     "output_type": "execute_result"
    }
   ],
   "source": [
    "#concat numerical and categorical columns\n",
    "data = pd.concat([data_num,data_cat],axis=1)\n",
    "data.head()"
   ]
  },
  {
   "cell_type": "code",
   "execution_count": 72,
   "id": "8f15787d",
   "metadata": {},
   "outputs": [
    {
     "data": {
      "text/plain": [
       "age            0\n",
       "height         0\n",
       "weight         0\n",
       "ap_hi          0\n",
       "ap_lo          0\n",
       "gender         0\n",
       "cholesterol    0\n",
       "gluc           0\n",
       "smoke          0\n",
       "alco           0\n",
       "active         0\n",
       "cardio         0\n",
       "dtype: int64"
      ]
     },
     "execution_count": 72,
     "metadata": {},
     "output_type": "execute_result"
    }
   ],
   "source": [
    "data.isna().sum()"
   ]
  },
  {
   "cell_type": "code",
   "execution_count": 73,
   "id": "kgCu5CRRoz7h",
   "metadata": {
    "id": "kgCu5CRRoz7h"
   },
   "outputs": [],
   "source": [
    "data=data.drop(['ap_hi','active'],axis=1)"
   ]
  },
  {
   "cell_type": "markdown",
   "id": "i0Om6gtEoeaK",
   "metadata": {
    "id": "i0Om6gtEoeaK"
   },
   "source": [
    "Logistic Regression"
   ]
  },
  {
   "cell_type": "markdown",
   "id": "RQ51F_QZVoFD",
   "metadata": {
    "id": "RQ51F_QZVoFD"
   },
   "source": [
    "Model 1\n"
   ]
  },
  {
   "cell_type": "code",
   "execution_count": 74,
   "id": "86c3627d",
   "metadata": {
    "id": "86c3627d"
   },
   "outputs": [],
   "source": [
    "X=data.drop('cardio',axis=1)\n",
    "Y=data['cardio']"
   ]
  },
  {
   "cell_type": "code",
   "execution_count": 75,
   "id": "sl9Ank2spfu4",
   "metadata": {
    "id": "sl9Ank2spfu4"
   },
   "outputs": [],
   "source": [
    "from sklearn.model_selection import train_test_split\n",
    "X_train,X_test,Y_train,Y_test=train_test_split(X,Y,test_size=0.2,random_state=42)"
   ]
  },
  {
   "cell_type": "code",
   "execution_count": 76,
   "id": "MI0634Nxp50I",
   "metadata": {
    "id": "MI0634Nxp50I"
   },
   "outputs": [],
   "source": [
    "from sklearn.linear_model import LogisticRegression"
   ]
  },
  {
   "cell_type": "code",
   "execution_count": 77,
   "id": "d-cb1bjmqBRC",
   "metadata": {
    "id": "d-cb1bjmqBRC"
   },
   "outputs": [],
   "source": [
    "clf=LogisticRegression()\n",
    "clf_model1=clf.fit(X_train,Y_train)\n",
    "prediction1=clf_model1.predict(X_test)"
   ]
  },
  {
   "cell_type": "code",
   "execution_count": 78,
   "id": "nmaUKB6xqRxv",
   "metadata": {
    "colab": {
     "base_uri": "https://localhost:8080/"
    },
    "id": "nmaUKB6xqRxv",
    "outputId": "73cf0033-4409-4322-ea72-2387b060bc1e"
   },
   "outputs": [
    {
     "data": {
      "text/plain": [
       "array([0, 0, 1, ..., 0, 0, 1])"
      ]
     },
     "execution_count": 78,
     "metadata": {},
     "output_type": "execute_result"
    }
   ],
   "source": [
    "prediction1"
   ]
  },
  {
   "cell_type": "code",
   "execution_count": 79,
   "id": "mF4xgv4iwfqr",
   "metadata": {
    "id": "mF4xgv4iwfqr"
   },
   "outputs": [],
   "source": [
    "prediction1=pd.DataFrame(prediction1)"
   ]
  },
  {
   "cell_type": "code",
   "execution_count": 80,
   "id": "Z92ptF_Nvq4b",
   "metadata": {
    "colab": {
     "base_uri": "https://localhost:8080/"
    },
    "id": "Z92ptF_Nvq4b",
    "outputId": "7e4e86ee-6b49-40da-f66a-1b9aa1bf3d71"
   },
   "outputs": [
    {
     "data": {
      "text/plain": [
       "0    0.519162\n",
       "1    0.480838\n",
       "dtype: float64"
      ]
     },
     "execution_count": 80,
     "metadata": {},
     "output_type": "execute_result"
    }
   ],
   "source": [
    "prediction1.value_counts(normalize=True)"
   ]
  },
  {
   "cell_type": "markdown",
   "id": "dWs6Ugvpwr8i",
   "metadata": {
    "id": "dWs6Ugvpwr8i"
   },
   "source": [
    "Confusion Matrix"
   ]
  },
  {
   "cell_type": "code",
   "execution_count": 81,
   "id": "4UTfT_gbwCjP",
   "metadata": {
    "id": "4UTfT_gbwCjP"
   },
   "outputs": [],
   "source": [
    "from sklearn.metrics import confusion_matrix"
   ]
  },
  {
   "cell_type": "code",
   "execution_count": 82,
   "id": "jyGEA_VDw33B",
   "metadata": {
    "colab": {
     "base_uri": "https://localhost:8080/"
    },
    "id": "jyGEA_VDw33B",
    "outputId": "71d442a0-65cb-448b-e669-d70aeea5ea9a"
   },
   "outputs": [
    {
     "data": {
      "text/plain": [
       "array([[4722, 2157],\n",
       "       [2390, 4430]], dtype=int64)"
      ]
     },
     "execution_count": 82,
     "metadata": {},
     "output_type": "execute_result"
    }
   ],
   "source": [
    "confusion_matrix(Y_test,prediction1)"
   ]
  },
  {
   "cell_type": "code",
   "execution_count": 83,
   "id": "9QNkiSARw_Jj",
   "metadata": {
    "id": "9QNkiSARw_Jj"
   },
   "outputs": [],
   "source": [
    "from sklearn.metrics import precision_score,recall_score,accuracy_score"
   ]
  },
  {
   "cell_type": "code",
   "execution_count": 84,
   "id": "EPuZ7M1rxN9E",
   "metadata": {
    "colab": {
     "base_uri": "https://localhost:8080/"
    },
    "id": "EPuZ7M1rxN9E",
    "outputId": "c99fb6f6-3733-41b7-ef40-11f77b7473c8"
   },
   "outputs": [
    {
     "data": {
      "text/plain": [
       "0.6725368149385152"
      ]
     },
     "execution_count": 84,
     "metadata": {},
     "output_type": "execute_result"
    }
   ],
   "source": [
    "precision_score(Y_test,prediction1)"
   ]
  },
  {
   "cell_type": "code",
   "execution_count": 85,
   "id": "CFcgfc-GxUTA",
   "metadata": {
    "colab": {
     "base_uri": "https://localhost:8080/"
    },
    "id": "CFcgfc-GxUTA",
    "outputId": "1cfce9b0-633b-46f7-8835-7dfdfa3eaf97"
   },
   "outputs": [
    {
     "data": {
      "text/plain": [
       "0.6680779618950289"
      ]
     },
     "execution_count": 85,
     "metadata": {},
     "output_type": "execute_result"
    }
   ],
   "source": [
    "accuracy_score(Y_test,prediction1)"
   ]
  },
  {
   "cell_type": "code",
   "execution_count": 86,
   "id": "2iFJq6YDxeH0",
   "metadata": {
    "colab": {
     "base_uri": "https://localhost:8080/"
    },
    "id": "2iFJq6YDxeH0",
    "outputId": "687be93d-27d1-4082-a366-7d071161c953"
   },
   "outputs": [
    {
     "data": {
      "text/plain": [
       "0.6495601173020528"
      ]
     },
     "execution_count": 86,
     "metadata": {},
     "output_type": "execute_result"
    }
   ],
   "source": [
    "recall_score(Y_test,prediction1)"
   ]
  },
  {
   "cell_type": "markdown",
   "id": "x9mkGAq0WD5w",
   "metadata": {
    "id": "x9mkGAq0WD5w"
   },
   "source": [
    "Model 2"
   ]
  },
  {
   "cell_type": "code",
   "execution_count": 87,
   "id": "9RRIeRo4xgMg",
   "metadata": {
    "id": "9RRIeRo4xgMg"
   },
   "outputs": [],
   "source": [
    "from sklearn.preprocessing import MinMaxScaler"
   ]
  },
  {
   "cell_type": "code",
   "execution_count": 88,
   "id": "sSfaI9fyzcp5",
   "metadata": {
    "id": "sSfaI9fyzcp5"
   },
   "outputs": [],
   "source": [
    "min_max_scaler=MinMaxScaler(feature_range=(0,1))\n",
    "X=min_max_scaler.fit_transform(X)"
   ]
  },
  {
   "cell_type": "code",
   "execution_count": 89,
   "id": "lteYy-Ks0RVq",
   "metadata": {
    "colab": {
     "base_uri": "https://localhost:8080/"
    },
    "id": "lteYy-Ks0RVq",
    "outputId": "ee150a33-415b-4402-fdd0-ab1e048bceff"
   },
   "outputs": [
    {
     "data": {
      "text/plain": [
       "Index(['age', 'height', 'weight', 'ap_lo', 'gender', 'cholesterol', 'gluc',\n",
       "       'smoke', 'alco', 'cardio'],\n",
       "      dtype='object')"
      ]
     },
     "execution_count": 89,
     "metadata": {},
     "output_type": "execute_result"
    }
   ],
   "source": [
    "data.columns"
   ]
  },
  {
   "cell_type": "code",
   "execution_count": 90,
   "id": "uxzVxIz2z_Oz",
   "metadata": {
    "id": "uxzVxIz2z_Oz"
   },
   "outputs": [],
   "source": [
    "X=pd.DataFrame(X,columns=['age', 'gender', 'height', 'weight', 'ap_lo', 'cholesterol', 'gluc','smoke', 'alco'])"
   ]
  },
  {
   "cell_type": "code",
   "execution_count": 91,
   "id": "P7V4mv0m0KZC",
   "metadata": {
    "colab": {
     "base_uri": "https://localhost:8080/",
     "height": 300
    },
    "id": "P7V4mv0m0KZC",
    "outputId": "c5bc92c5-f848-415a-b2ab-381d6b684801"
   },
   "outputs": [
    {
     "data": {
      "text/html": [
       "<div>\n",
       "<style scoped>\n",
       "    .dataframe tbody tr th:only-of-type {\n",
       "        vertical-align: middle;\n",
       "    }\n",
       "\n",
       "    .dataframe tbody tr th {\n",
       "        vertical-align: top;\n",
       "    }\n",
       "\n",
       "    .dataframe thead th {\n",
       "        text-align: right;\n",
       "    }\n",
       "</style>\n",
       "<table border=\"1\" class=\"dataframe\">\n",
       "  <thead>\n",
       "    <tr style=\"text-align: right;\">\n",
       "      <th></th>\n",
       "      <th>age</th>\n",
       "      <th>gender</th>\n",
       "      <th>height</th>\n",
       "      <th>weight</th>\n",
       "      <th>ap_lo</th>\n",
       "      <th>cholesterol</th>\n",
       "      <th>gluc</th>\n",
       "      <th>smoke</th>\n",
       "      <th>alco</th>\n",
       "    </tr>\n",
       "  </thead>\n",
       "  <tbody>\n",
       "    <tr>\n",
       "      <th>count</th>\n",
       "      <td>68495.000000</td>\n",
       "      <td>68495.000000</td>\n",
       "      <td>68495.000000</td>\n",
       "      <td>68495.000000</td>\n",
       "      <td>68495.000000</td>\n",
       "      <td>68495.000000</td>\n",
       "      <td>68495.000000</td>\n",
       "      <td>68495.000000</td>\n",
       "      <td>68495.000000</td>\n",
       "    </tr>\n",
       "    <tr>\n",
       "      <th>mean</th>\n",
       "      <td>0.666468</td>\n",
       "      <td>0.315604</td>\n",
       "      <td>0.208464</td>\n",
       "      <td>0.459013</td>\n",
       "      <td>0.348858</td>\n",
       "      <td>0.489656</td>\n",
       "      <td>0.501175</td>\n",
       "      <td>0.088036</td>\n",
       "      <td>0.053522</td>\n",
       "    </tr>\n",
       "    <tr>\n",
       "      <th>std</th>\n",
       "      <td>0.193339</td>\n",
       "      <td>0.062745</td>\n",
       "      <td>0.089532</td>\n",
       "      <td>0.104486</td>\n",
       "      <td>0.476612</td>\n",
       "      <td>0.249753</td>\n",
       "      <td>0.193466</td>\n",
       "      <td>0.283349</td>\n",
       "      <td>0.225074</td>\n",
       "    </tr>\n",
       "    <tr>\n",
       "      <th>min</th>\n",
       "      <td>0.000000</td>\n",
       "      <td>0.000000</td>\n",
       "      <td>0.000000</td>\n",
       "      <td>0.000000</td>\n",
       "      <td>0.000000</td>\n",
       "      <td>0.000000</td>\n",
       "      <td>0.000000</td>\n",
       "      <td>0.000000</td>\n",
       "      <td>0.000000</td>\n",
       "    </tr>\n",
       "    <tr>\n",
       "      <th>25%</th>\n",
       "      <td>0.514286</td>\n",
       "      <td>0.272000</td>\n",
       "      <td>0.150943</td>\n",
       "      <td>0.444444</td>\n",
       "      <td>0.000000</td>\n",
       "      <td>0.500000</td>\n",
       "      <td>0.500000</td>\n",
       "      <td>0.000000</td>\n",
       "      <td>0.000000</td>\n",
       "    </tr>\n",
       "    <tr>\n",
       "      <th>50%</th>\n",
       "      <td>0.685714</td>\n",
       "      <td>0.320000</td>\n",
       "      <td>0.194969</td>\n",
       "      <td>0.444444</td>\n",
       "      <td>0.000000</td>\n",
       "      <td>0.500000</td>\n",
       "      <td>0.500000</td>\n",
       "      <td>0.000000</td>\n",
       "      <td>0.000000</td>\n",
       "    </tr>\n",
       "    <tr>\n",
       "      <th>75%</th>\n",
       "      <td>0.800000</td>\n",
       "      <td>0.360000</td>\n",
       "      <td>0.257862</td>\n",
       "      <td>0.555556</td>\n",
       "      <td>1.000000</td>\n",
       "      <td>0.500000</td>\n",
       "      <td>0.500000</td>\n",
       "      <td>0.000000</td>\n",
       "      <td>0.000000</td>\n",
       "    </tr>\n",
       "    <tr>\n",
       "      <th>max</th>\n",
       "      <td>1.000000</td>\n",
       "      <td>1.000000</td>\n",
       "      <td>1.000000</td>\n",
       "      <td>1.000000</td>\n",
       "      <td>1.000000</td>\n",
       "      <td>1.000000</td>\n",
       "      <td>1.000000</td>\n",
       "      <td>1.000000</td>\n",
       "      <td>1.000000</td>\n",
       "    </tr>\n",
       "  </tbody>\n",
       "</table>\n",
       "</div>"
      ],
      "text/plain": [
       "                age        gender        height        weight         ap_lo  \\\n",
       "count  68495.000000  68495.000000  68495.000000  68495.000000  68495.000000   \n",
       "mean       0.666468      0.315604      0.208464      0.459013      0.348858   \n",
       "std        0.193339      0.062745      0.089532      0.104486      0.476612   \n",
       "min        0.000000      0.000000      0.000000      0.000000      0.000000   \n",
       "25%        0.514286      0.272000      0.150943      0.444444      0.000000   \n",
       "50%        0.685714      0.320000      0.194969      0.444444      0.000000   \n",
       "75%        0.800000      0.360000      0.257862      0.555556      1.000000   \n",
       "max        1.000000      1.000000      1.000000      1.000000      1.000000   \n",
       "\n",
       "        cholesterol          gluc         smoke          alco  \n",
       "count  68495.000000  68495.000000  68495.000000  68495.000000  \n",
       "mean       0.489656      0.501175      0.088036      0.053522  \n",
       "std        0.249753      0.193466      0.283349      0.225074  \n",
       "min        0.000000      0.000000      0.000000      0.000000  \n",
       "25%        0.500000      0.500000      0.000000      0.000000  \n",
       "50%        0.500000      0.500000      0.000000      0.000000  \n",
       "75%        0.500000      0.500000      0.000000      0.000000  \n",
       "max        1.000000      1.000000      1.000000      1.000000  "
      ]
     },
     "execution_count": 91,
     "metadata": {},
     "output_type": "execute_result"
    }
   ],
   "source": [
    "X.describe()"
   ]
  },
  {
   "cell_type": "code",
   "execution_count": 92,
   "id": "jsBvlUys0uQ6",
   "metadata": {
    "id": "jsBvlUys0uQ6"
   },
   "outputs": [],
   "source": [
    "clf=LogisticRegression()\n",
    "clf_model2=clf.fit(X_train,Y_train)\n",
    "prediction2=clf_model2.predict(X_test)"
   ]
  },
  {
   "cell_type": "code",
   "execution_count": 93,
   "id": "e7DSeZQg1V4n",
   "metadata": {
    "colab": {
     "base_uri": "https://localhost:8080/"
    },
    "id": "e7DSeZQg1V4n",
    "outputId": "7e84a4f9-2318-47bc-9961-7e2153ea9617"
   },
   "outputs": [
    {
     "data": {
      "text/plain": [
       "array([[4722, 2157],\n",
       "       [2390, 4430]], dtype=int64)"
      ]
     },
     "execution_count": 93,
     "metadata": {},
     "output_type": "execute_result"
    }
   ],
   "source": [
    "confusion_matrix(Y_test,prediction2)"
   ]
  },
  {
   "cell_type": "code",
   "execution_count": 94,
   "id": "z8XoMjXq1a3m",
   "metadata": {
    "colab": {
     "base_uri": "https://localhost:8080/"
    },
    "id": "z8XoMjXq1a3m",
    "outputId": "b8006376-e0e6-49c8-a7c1-891252298172"
   },
   "outputs": [
    {
     "data": {
      "text/plain": [
       "0.6725368149385152"
      ]
     },
     "execution_count": 94,
     "metadata": {},
     "output_type": "execute_result"
    }
   ],
   "source": [
    "precision_score(Y_test,prediction2)"
   ]
  },
  {
   "cell_type": "code",
   "execution_count": 95,
   "id": "DliG-sOo1m67",
   "metadata": {
    "colab": {
     "base_uri": "https://localhost:8080/"
    },
    "id": "DliG-sOo1m67",
    "outputId": "11db90ff-e255-45f4-fae0-2d686ddb486b"
   },
   "outputs": [
    {
     "data": {
      "text/plain": [
       "0.6680779618950289"
      ]
     },
     "execution_count": 95,
     "metadata": {},
     "output_type": "execute_result"
    }
   ],
   "source": [
    "accuracy_score(Y_test,prediction2)"
   ]
  },
  {
   "cell_type": "code",
   "execution_count": 96,
   "id": "a-G9Nw8U1qf2",
   "metadata": {
    "colab": {
     "base_uri": "https://localhost:8080/"
    },
    "id": "a-G9Nw8U1qf2",
    "outputId": "96c1bd92-2d1b-4836-b984-d8c11faa18fc"
   },
   "outputs": [
    {
     "data": {
      "text/plain": [
       "0.6495601173020528"
      ]
     },
     "execution_count": 96,
     "metadata": {},
     "output_type": "execute_result"
    }
   ],
   "source": [
    "recall_score(Y_test,prediction2)"
   ]
  },
  {
   "cell_type": "markdown",
   "id": "kJ-dGFyTWIhr",
   "metadata": {
    "id": "kJ-dGFyTWIhr"
   },
   "source": [
    "MODEL 3 "
   ]
  },
  {
   "cell_type": "markdown",
   "id": "xbij9PwR193J",
   "metadata": {
    "id": "xbij9PwR193J"
   },
   "source": [
    "Standard Scaler"
   ]
  },
  {
   "cell_type": "code",
   "execution_count": 97,
   "id": "hadizS-A1wGo",
   "metadata": {
    "id": "hadizS-A1wGo"
   },
   "outputs": [],
   "source": [
    "from sklearn.preprocessing import StandardScaler"
   ]
  },
  {
   "cell_type": "code",
   "execution_count": 98,
   "id": "2p5yqIQ42Hx8",
   "metadata": {
    "id": "2p5yqIQ42Hx8"
   },
   "outputs": [],
   "source": [
    "std_scaler=StandardScaler()"
   ]
  },
  {
   "cell_type": "code",
   "execution_count": 99,
   "id": "_XRcjRpU2r5Z",
   "metadata": {
    "id": "_XRcjRpU2r5Z"
   },
   "outputs": [],
   "source": [
    "X=data.drop('cardio',axis=1)\n",
    "Y=data['cardio']"
   ]
  },
  {
   "cell_type": "code",
   "execution_count": 100,
   "id": "NN9jdS-A3D1d",
   "metadata": {
    "id": "NN9jdS-A3D1d"
   },
   "outputs": [],
   "source": [
    "from sklearn.model_selection import train_test_split\n",
    "X_train,X_test,Y_train,Y_test=train_test_split(X,Y,test_size=0.2,random_state=42)"
   ]
  },
  {
   "cell_type": "code",
   "execution_count": 101,
   "id": "amSjJbHg2MoR",
   "metadata": {
    "id": "amSjJbHg2MoR"
   },
   "outputs": [],
   "source": [
    "X=std_scaler.fit_transform(X)"
   ]
  },
  {
   "cell_type": "code",
   "execution_count": 102,
   "id": "CbMI39ez2WsC",
   "metadata": {
    "id": "CbMI39ez2WsC"
   },
   "outputs": [],
   "source": [
    "X=pd.DataFrame(X,columns=['age', 'gender', 'height', 'weight', 'ap_lo', 'cholesterol', 'gluc','smoke', 'alco'])"
   ]
  },
  {
   "cell_type": "code",
   "execution_count": 103,
   "id": "ghU9hCb83hsF",
   "metadata": {
    "colab": {
     "base_uri": "https://localhost:8080/",
     "height": 300
    },
    "id": "ghU9hCb83hsF",
    "outputId": "e1d6acc9-a165-4255-f4c5-4f9faedc0482"
   },
   "outputs": [
    {
     "data": {
      "text/html": [
       "<div>\n",
       "<style scoped>\n",
       "    .dataframe tbody tr th:only-of-type {\n",
       "        vertical-align: middle;\n",
       "    }\n",
       "\n",
       "    .dataframe tbody tr th {\n",
       "        vertical-align: top;\n",
       "    }\n",
       "\n",
       "    .dataframe thead th {\n",
       "        text-align: right;\n",
       "    }\n",
       "</style>\n",
       "<table border=\"1\" class=\"dataframe\">\n",
       "  <thead>\n",
       "    <tr style=\"text-align: right;\">\n",
       "      <th></th>\n",
       "      <th>age</th>\n",
       "      <th>gender</th>\n",
       "      <th>height</th>\n",
       "      <th>weight</th>\n",
       "      <th>ap_lo</th>\n",
       "      <th>cholesterol</th>\n",
       "      <th>gluc</th>\n",
       "      <th>smoke</th>\n",
       "      <th>alco</th>\n",
       "    </tr>\n",
       "  </thead>\n",
       "  <tbody>\n",
       "    <tr>\n",
       "      <th>count</th>\n",
       "      <td>6.849500e+04</td>\n",
       "      <td>6.849500e+04</td>\n",
       "      <td>6.849500e+04</td>\n",
       "      <td>6.849500e+04</td>\n",
       "      <td>6.849500e+04</td>\n",
       "      <td>6.849500e+04</td>\n",
       "      <td>6.849500e+04</td>\n",
       "      <td>6.849500e+04</td>\n",
       "      <td>6.849500e+04</td>\n",
       "    </tr>\n",
       "    <tr>\n",
       "      <th>mean</th>\n",
       "      <td>7.787527e-16</td>\n",
       "      <td>2.942974e-15</td>\n",
       "      <td>-2.298694e-16</td>\n",
       "      <td>6.892832e-16</td>\n",
       "      <td>8.430531e-17</td>\n",
       "      <td>-1.243829e-15</td>\n",
       "      <td>-2.538953e-16</td>\n",
       "      <td>2.264056e-15</td>\n",
       "      <td>1.205571e-16</td>\n",
       "    </tr>\n",
       "    <tr>\n",
       "      <th>std</th>\n",
       "      <td>1.000007e+00</td>\n",
       "      <td>1.000007e+00</td>\n",
       "      <td>1.000007e+00</td>\n",
       "      <td>1.000007e+00</td>\n",
       "      <td>1.000007e+00</td>\n",
       "      <td>1.000007e+00</td>\n",
       "      <td>1.000007e+00</td>\n",
       "      <td>1.000007e+00</td>\n",
       "      <td>1.000007e+00</td>\n",
       "    </tr>\n",
       "    <tr>\n",
       "      <th>min</th>\n",
       "      <td>-3.447176e+00</td>\n",
       "      <td>-5.030004e+00</td>\n",
       "      <td>-2.328396e+00</td>\n",
       "      <td>-4.393093e+00</td>\n",
       "      <td>-7.319579e-01</td>\n",
       "      <td>-1.960576e+00</td>\n",
       "      <td>-2.590534e+00</td>\n",
       "      <td>-3.106993e-01</td>\n",
       "      <td>-2.377998e-01</td>\n",
       "    </tr>\n",
       "    <tr>\n",
       "      <th>25%</th>\n",
       "      <td>-7.871327e-01</td>\n",
       "      <td>-6.949469e-01</td>\n",
       "      <td>-6.424666e-01</td>\n",
       "      <td>-1.394325e-01</td>\n",
       "      <td>-7.319579e-01</td>\n",
       "      <td>4.141650e-02</td>\n",
       "      <td>-6.074865e-03</td>\n",
       "      <td>-3.106993e-01</td>\n",
       "      <td>-2.377998e-01</td>\n",
       "    </tr>\n",
       "    <tr>\n",
       "      <th>50%</th>\n",
       "      <td>9.954856e-02</td>\n",
       "      <td>7.006327e-02</td>\n",
       "      <td>-1.507371e-01</td>\n",
       "      <td>-1.394325e-01</td>\n",
       "      <td>-7.319579e-01</td>\n",
       "      <td>4.141650e-02</td>\n",
       "      <td>-6.074865e-03</td>\n",
       "      <td>-3.106993e-01</td>\n",
       "      <td>-2.377998e-01</td>\n",
       "    </tr>\n",
       "    <tr>\n",
       "      <th>75%</th>\n",
       "      <td>6.906694e-01</td>\n",
       "      <td>7.075717e-01</td>\n",
       "      <td>5.517337e-01</td>\n",
       "      <td>9.239828e-01</td>\n",
       "      <td>1.366199e+00</td>\n",
       "      <td>4.141650e-02</td>\n",
       "      <td>-6.074865e-03</td>\n",
       "      <td>-3.106993e-01</td>\n",
       "      <td>-2.377998e-01</td>\n",
       "    </tr>\n",
       "    <tr>\n",
       "      <th>max</th>\n",
       "      <td>1.725131e+00</td>\n",
       "      <td>1.090771e+01</td>\n",
       "      <td>8.840889e+00</td>\n",
       "      <td>5.177644e+00</td>\n",
       "      <td>1.366199e+00</td>\n",
       "      <td>2.043409e+00</td>\n",
       "      <td>2.578384e+00</td>\n",
       "      <td>3.218546e+00</td>\n",
       "      <td>4.205217e+00</td>\n",
       "    </tr>\n",
       "  </tbody>\n",
       "</table>\n",
       "</div>"
      ],
      "text/plain": [
       "                age        gender        height        weight         ap_lo  \\\n",
       "count  6.849500e+04  6.849500e+04  6.849500e+04  6.849500e+04  6.849500e+04   \n",
       "mean   7.787527e-16  2.942974e-15 -2.298694e-16  6.892832e-16  8.430531e-17   \n",
       "std    1.000007e+00  1.000007e+00  1.000007e+00  1.000007e+00  1.000007e+00   \n",
       "min   -3.447176e+00 -5.030004e+00 -2.328396e+00 -4.393093e+00 -7.319579e-01   \n",
       "25%   -7.871327e-01 -6.949469e-01 -6.424666e-01 -1.394325e-01 -7.319579e-01   \n",
       "50%    9.954856e-02  7.006327e-02 -1.507371e-01 -1.394325e-01 -7.319579e-01   \n",
       "75%    6.906694e-01  7.075717e-01  5.517337e-01  9.239828e-01  1.366199e+00   \n",
       "max    1.725131e+00  1.090771e+01  8.840889e+00  5.177644e+00  1.366199e+00   \n",
       "\n",
       "        cholesterol          gluc         smoke          alco  \n",
       "count  6.849500e+04  6.849500e+04  6.849500e+04  6.849500e+04  \n",
       "mean  -1.243829e-15 -2.538953e-16  2.264056e-15  1.205571e-16  \n",
       "std    1.000007e+00  1.000007e+00  1.000007e+00  1.000007e+00  \n",
       "min   -1.960576e+00 -2.590534e+00 -3.106993e-01 -2.377998e-01  \n",
       "25%    4.141650e-02 -6.074865e-03 -3.106993e-01 -2.377998e-01  \n",
       "50%    4.141650e-02 -6.074865e-03 -3.106993e-01 -2.377998e-01  \n",
       "75%    4.141650e-02 -6.074865e-03 -3.106993e-01 -2.377998e-01  \n",
       "max    2.043409e+00  2.578384e+00  3.218546e+00  4.205217e+00  "
      ]
     },
     "execution_count": 103,
     "metadata": {},
     "output_type": "execute_result"
    }
   ],
   "source": [
    "X.describe()"
   ]
  },
  {
   "cell_type": "code",
   "execution_count": 104,
   "id": "2vLmUWLt3klj",
   "metadata": {
    "id": "2vLmUWLt3klj"
   },
   "outputs": [],
   "source": [
    "clf=LogisticRegression()\n",
    "clf_model3=clf.fit(X_train,Y_train)\n",
    "prediction3=clf_model3.predict(X_test)"
   ]
  },
  {
   "cell_type": "code",
   "execution_count": 105,
   "id": "IgKey6kz3sVb",
   "metadata": {
    "colab": {
     "base_uri": "https://localhost:8080/"
    },
    "id": "IgKey6kz3sVb",
    "outputId": "928ba511-3e3c-4f37-de40-5b25979582c0"
   },
   "outputs": [
    {
     "data": {
      "text/plain": [
       "array([[4722, 2157],\n",
       "       [2390, 4430]], dtype=int64)"
      ]
     },
     "execution_count": 105,
     "metadata": {},
     "output_type": "execute_result"
    }
   ],
   "source": [
    "confusion_matrix(Y_test,prediction3)"
   ]
  },
  {
   "cell_type": "code",
   "execution_count": 106,
   "id": "HTBRmnqV3yif",
   "metadata": {
    "colab": {
     "base_uri": "https://localhost:8080/"
    },
    "id": "HTBRmnqV3yif",
    "outputId": "d6babf18-1f40-4a31-854a-d853368e52eb"
   },
   "outputs": [
    {
     "data": {
      "text/plain": [
       "0.6725368149385152"
      ]
     },
     "execution_count": 106,
     "metadata": {},
     "output_type": "execute_result"
    }
   ],
   "source": [
    "precision_score(Y_test,prediction3)"
   ]
  },
  {
   "cell_type": "code",
   "execution_count": 107,
   "id": "mcupmtmR34tT",
   "metadata": {
    "colab": {
     "base_uri": "https://localhost:8080/"
    },
    "id": "mcupmtmR34tT",
    "outputId": "1a177ec3-8407-4136-de0c-cb95c7a45272"
   },
   "outputs": [
    {
     "data": {
      "text/plain": [
       "0.6680779618950289"
      ]
     },
     "execution_count": 107,
     "metadata": {},
     "output_type": "execute_result"
    }
   ],
   "source": [
    "accuracy_score(Y_test,prediction3)"
   ]
  },
  {
   "cell_type": "code",
   "execution_count": 108,
   "id": "OR9azax14C_a",
   "metadata": {
    "colab": {
     "base_uri": "https://localhost:8080/"
    },
    "id": "OR9azax14C_a",
    "outputId": "9246f073-9481-4f55-abf0-4a7391075f0e"
   },
   "outputs": [
    {
     "data": {
      "text/plain": [
       "0.6495601173020528"
      ]
     },
     "execution_count": 108,
     "metadata": {},
     "output_type": "execute_result"
    }
   ],
   "source": [
    "recall_score(Y_test,prediction3)"
   ]
  },
  {
   "cell_type": "markdown",
   "id": "NVufzbAy4PV1",
   "metadata": {
    "id": "NVufzbAy4PV1"
   },
   "source": [
    "Model 4"
   ]
  },
  {
   "cell_type": "code",
   "execution_count": 109,
   "id": "ACGwpc_m4FvF",
   "metadata": {
    "id": "ACGwpc_m4FvF"
   },
   "outputs": [],
   "source": [
    "X=data.drop('cardio',axis=1)\n",
    "Y=data['cardio']"
   ]
  },
  {
   "cell_type": "code",
   "execution_count": 110,
   "id": "KbRFsYJ_4R6s",
   "metadata": {
    "id": "KbRFsYJ_4R6s"
   },
   "outputs": [],
   "source": [
    "from sklearn.model_selection import train_test_split\n",
    "X_train,X_test,Y_train,Y_test=train_test_split(X,Y,test_size=0.15,random_state=42)"
   ]
  },
  {
   "cell_type": "code",
   "execution_count": 111,
   "id": "M1WQF9VL4ezk",
   "metadata": {
    "id": "M1WQF9VL4ezk"
   },
   "outputs": [],
   "source": [
    "clf=LogisticRegression()\n",
    "clf_model4=clf.fit(X_train,Y_train)\n",
    "prediction4=clf_model4.predict(X_test)"
   ]
  },
  {
   "cell_type": "code",
   "execution_count": 112,
   "id": "EgCvm5cE5B_7",
   "metadata": {
    "colab": {
     "base_uri": "https://localhost:8080/"
    },
    "id": "EgCvm5cE5B_7",
    "outputId": "c81c0907-0db3-414d-ed2d-32998e5f4fba"
   },
   "outputs": [
    {
     "data": {
      "text/plain": [
       "array([[3556, 1594],\n",
       "       [1773, 3352]], dtype=int64)"
      ]
     },
     "execution_count": 112,
     "metadata": {},
     "output_type": "execute_result"
    }
   ],
   "source": [
    "confusion_matrix(Y_test,prediction4)"
   ]
  },
  {
   "cell_type": "code",
   "execution_count": 113,
   "id": "yeMb6FTp5MGQ",
   "metadata": {
    "colab": {
     "base_uri": "https://localhost:8080/"
    },
    "id": "yeMb6FTp5MGQ",
    "outputId": "efccf706-c1e6-4e50-b102-1b2b292ea5ae"
   },
   "outputs": [
    {
     "data": {
      "text/plain": [
       "0.677719369187222"
      ]
     },
     "execution_count": 113,
     "metadata": {},
     "output_type": "execute_result"
    }
   ],
   "source": [
    "precision_score(Y_test,prediction4)"
   ]
  },
  {
   "cell_type": "code",
   "execution_count": 114,
   "id": "YhKR9RDx5TdB",
   "metadata": {
    "colab": {
     "base_uri": "https://localhost:8080/"
    },
    "id": "YhKR9RDx5TdB",
    "outputId": "3954e177-7005-4149-c1d0-6e5fdac8073a"
   },
   "outputs": [
    {
     "data": {
      "text/plain": [
       "0.6723114355231143"
      ]
     },
     "execution_count": 114,
     "metadata": {},
     "output_type": "execute_result"
    }
   ],
   "source": [
    "accuracy_score(Y_test,prediction4)"
   ]
  },
  {
   "cell_type": "code",
   "execution_count": 115,
   "id": "xlGivdzA5Y5C",
   "metadata": {
    "colab": {
     "base_uri": "https://localhost:8080/"
    },
    "id": "xlGivdzA5Y5C",
    "outputId": "ca6dd27d-63aa-4a04-de50-5956aff08318"
   },
   "outputs": [
    {
     "data": {
      "text/plain": [
       "0.6540487804878049"
      ]
     },
     "execution_count": 115,
     "metadata": {},
     "output_type": "execute_result"
    }
   ],
   "source": [
    "recall_score(Y_test,prediction4)"
   ]
  },
  {
   "cell_type": "markdown",
   "id": "3tHSkEAQ5mjO",
   "metadata": {
    "id": "3tHSkEAQ5mjO"
   },
   "source": [
    "Model 5"
   ]
  },
  {
   "cell_type": "code",
   "execution_count": 116,
   "id": "t-uIRZJm5dFJ",
   "metadata": {
    "id": "t-uIRZJm5dFJ"
   },
   "outputs": [],
   "source": [
    "from sklearn.model_selection import train_test_split\n",
    "X_train,X_test,Y_train,Y_test=train_test_split(X,Y,test_size=0.1,random_state=42)"
   ]
  },
  {
   "cell_type": "code",
   "execution_count": 117,
   "id": "zns49WPM5v8L",
   "metadata": {
    "id": "zns49WPM5v8L"
   },
   "outputs": [],
   "source": [
    "clf=LogisticRegression()\n",
    "clf_model5=clf.fit(X_train,Y_train)\n",
    "prediction5=clf_model5.predict(X_test)"
   ]
  },
  {
   "cell_type": "code",
   "execution_count": 118,
   "id": "Gwkjb9sf5p6y",
   "metadata": {
    "colab": {
     "base_uri": "https://localhost:8080/"
    },
    "id": "Gwkjb9sf5p6y",
    "outputId": "b326b80e-b0d1-49d4-9d19-b030de2254ea"
   },
   "outputs": [
    {
     "data": {
      "text/plain": [
       "array([[2345, 1050],\n",
       "       [1178, 2277]], dtype=int64)"
      ]
     },
     "execution_count": 118,
     "metadata": {},
     "output_type": "execute_result"
    }
   ],
   "source": [
    "confusion_matrix(Y_test,prediction5)"
   ]
  },
  {
   "cell_type": "code",
   "execution_count": 119,
   "id": "0FGO6rIS50Vi",
   "metadata": {
    "colab": {
     "base_uri": "https://localhost:8080/"
    },
    "id": "0FGO6rIS50Vi",
    "outputId": "dfeb64a3-19ab-4696-c6ae-750b078ab362"
   },
   "outputs": [
    {
     "data": {
      "text/plain": [
       "0.6844003606853021"
      ]
     },
     "execution_count": 119,
     "metadata": {},
     "output_type": "execute_result"
    }
   ],
   "source": [
    "precision_score(Y_test,prediction5)"
   ]
  },
  {
   "cell_type": "code",
   "execution_count": 120,
   "id": "3pNngKId58K_",
   "metadata": {
    "colab": {
     "base_uri": "https://localhost:8080/"
    },
    "id": "3pNngKId58K_",
    "outputId": "9bb85d49-c1fb-48bf-efdf-0cb2334c4659"
   },
   "outputs": [
    {
     "data": {
      "text/plain": [
       "0.6747445255474452"
      ]
     },
     "execution_count": 120,
     "metadata": {},
     "output_type": "execute_result"
    }
   ],
   "source": [
    "accuracy_score(Y_test,prediction5)"
   ]
  },
  {
   "cell_type": "code",
   "execution_count": 121,
   "id": "WCTmVWGK5_ZY",
   "metadata": {
    "colab": {
     "base_uri": "https://localhost:8080/"
    },
    "id": "WCTmVWGK5_ZY",
    "outputId": "dcd3dbf9-5969-407e-c69f-7729ca0e3369"
   },
   "outputs": [
    {
     "data": {
      "text/plain": [
       "0.6590448625180897"
      ]
     },
     "execution_count": 121,
     "metadata": {},
     "output_type": "execute_result"
    }
   ],
   "source": [
    "recall_score(Y_test,prediction5)"
   ]
  },
  {
   "cell_type": "markdown",
   "id": "6C5ovJ3T6HI4",
   "metadata": {
    "id": "6C5ovJ3T6HI4"
   },
   "source": [
    "Model 6"
   ]
  },
  {
   "cell_type": "code",
   "execution_count": 122,
   "id": "CfSEHesU6B-U",
   "metadata": {
    "id": "CfSEHesU6B-U"
   },
   "outputs": [],
   "source": [
    "from sklearn.model_selection import train_test_split\n",
    "X_train,X_test,Y_train,Y_test=train_test_split(X,Y,test_size=0.01,random_state=42)"
   ]
  },
  {
   "cell_type": "code",
   "execution_count": 123,
   "id": "RXKiSR9W6L_N",
   "metadata": {
    "id": "RXKiSR9W6L_N"
   },
   "outputs": [],
   "source": [
    "clf=LogisticRegression()\n",
    "clf_model6=clf.fit(X_train,Y_train)\n",
    "prediction6=clf_model6.predict(X_test)"
   ]
  },
  {
   "cell_type": "code",
   "execution_count": 124,
   "id": "Pqd27wnU7e3i",
   "metadata": {
    "colab": {
     "base_uri": "https://localhost:8080/"
    },
    "id": "Pqd27wnU7e3i",
    "outputId": "f35dc21f-523c-4227-db2b-644c7ad9de96"
   },
   "outputs": [
    {
     "data": {
      "text/plain": [
       "array([0, 0, 1, 0, 0, 0, 0, 0, 0, 0, 0, 0, 1, 1, 0, 0, 1, 1, 0, 1, 1, 1,\n",
       "       0, 0, 1, 1, 1, 1, 1, 1, 0, 0, 0, 0, 0, 0, 0, 0, 0, 1, 0, 1, 0, 1,\n",
       "       0, 0, 0, 0, 0, 1, 1, 1, 0, 0, 0, 0, 1, 1, 0, 1, 0, 0, 1, 1, 1, 1,\n",
       "       1, 1, 1, 0, 1, 0, 0, 0, 0, 1, 1, 1, 0, 0, 0, 1, 0, 0, 1, 0, 1, 1,\n",
       "       1, 1, 0, 1, 0, 0, 1, 0, 1, 0, 1, 0, 0, 0, 0, 0, 1, 1, 0, 0, 1, 0,\n",
       "       0, 1, 0, 0, 0, 0, 0, 1, 1, 1, 1, 1, 0, 0, 1, 0, 0, 1, 0, 0, 1, 1,\n",
       "       0, 0, 0, 1, 1, 0, 0, 1, 1, 0, 0, 1, 0, 0, 0, 0, 1, 0, 1, 1, 0, 1,\n",
       "       0, 0, 0, 0, 0, 1, 1, 1, 0, 1, 1, 0, 0, 1, 1, 0, 1, 0, 0, 1, 0, 0,\n",
       "       1, 0, 0, 1, 1, 1, 0, 0, 0, 1, 1, 0, 1, 1, 1, 0, 0, 0, 0, 1, 0, 0,\n",
       "       1, 1, 1, 1, 0, 1, 0, 0, 1, 1, 1, 1, 0, 0, 1, 1, 0, 0, 1, 0, 1, 0,\n",
       "       1, 0, 1, 1, 1, 0, 1, 1, 1, 1, 1, 1, 0, 0, 1, 1, 1, 0, 1, 0, 0, 0,\n",
       "       0, 1, 0, 0, 0, 0, 1, 0, 0, 0, 1, 1, 1, 1, 0, 0, 0, 1, 0, 1, 0, 0,\n",
       "       0, 1, 1, 0, 0, 0, 0, 0, 1, 0, 1, 1, 0, 1, 1, 0, 1, 1, 0, 0, 0, 0,\n",
       "       1, 1, 0, 1, 1, 1, 1, 1, 1, 0, 1, 1, 1, 0, 1, 0, 1, 1, 1, 1, 0, 0,\n",
       "       0, 0, 0, 0, 1, 0, 1, 0, 1, 0, 0, 0, 0, 0, 0, 0, 0, 1, 0, 1, 1, 1,\n",
       "       1, 0, 1, 1, 1, 0, 1, 0, 1, 0, 0, 1, 1, 1, 0, 0, 1, 1, 0, 1, 1, 1,\n",
       "       0, 1, 1, 0, 1, 1, 0, 0, 1, 0, 0, 0, 1, 1, 0, 0, 0, 0, 0, 0, 0, 1,\n",
       "       0, 1, 0, 1, 1, 1, 0, 1, 1, 1, 0, 0, 1, 0, 1, 1, 1, 0, 1, 0, 0, 1,\n",
       "       1, 1, 1, 0, 1, 0, 0, 1, 0, 1, 1, 1, 0, 0, 1, 1, 0, 1, 0, 1, 0, 1,\n",
       "       0, 0, 1, 1, 0, 1, 1, 1, 0, 1, 0, 0, 1, 1, 1, 1, 1, 0, 1, 1, 1, 1,\n",
       "       1, 1, 1, 1, 1, 0, 1, 0, 0, 0, 0, 1, 1, 1, 1, 1, 1, 0, 1, 1, 0, 0,\n",
       "       0, 0, 1, 1, 1, 1, 1, 1, 1, 1, 0, 0, 0, 1, 1, 1, 0, 0, 0, 1, 1, 1,\n",
       "       1, 1, 0, 0, 1, 1, 0, 0, 0, 0, 1, 1, 0, 0, 1, 1, 0, 0, 0, 0, 1, 0,\n",
       "       1, 1, 1, 0, 1, 0, 0, 0, 1, 0, 0, 1, 0, 1, 0, 0, 0, 1, 1, 0, 0, 0,\n",
       "       0, 0, 0, 0, 0, 1, 0, 1, 1, 1, 1, 0, 1, 0, 1, 0, 0, 0, 1, 1, 1, 1,\n",
       "       0, 1, 0, 0, 0, 1, 1, 1, 0, 0, 0, 1, 0, 0, 0, 0, 0, 1, 1, 1, 1, 1,\n",
       "       0, 0, 1, 1, 0, 0, 1, 1, 1, 1, 0, 0, 0, 0, 1, 1, 0, 1, 0, 1, 1, 0,\n",
       "       0, 1, 0, 0, 0, 0, 1, 1, 1, 1, 1, 0, 1, 1, 1, 0, 1, 0, 1, 1, 1, 1,\n",
       "       0, 0, 1, 1, 1, 1, 1, 1, 0, 1, 0, 0, 0, 1, 0, 0, 1, 1, 1, 1, 1, 0,\n",
       "       0, 1, 1, 1, 1, 1, 0, 0, 0, 1, 0, 0, 0, 1, 1, 1, 0, 0, 0, 1, 0, 1,\n",
       "       0, 1, 0, 0, 0, 0, 1, 1, 0, 1, 0, 1, 0, 1, 0, 0, 0, 1, 0, 1, 1, 0,\n",
       "       0, 1, 1])"
      ]
     },
     "execution_count": 124,
     "metadata": {},
     "output_type": "execute_result"
    }
   ],
   "source": [
    "prediction6"
   ]
  },
  {
   "cell_type": "code",
   "execution_count": 125,
   "id": "hGGKCA097kol",
   "metadata": {
    "id": "hGGKCA097kol"
   },
   "outputs": [],
   "source": [
    "prediction6=pd.DataFrame(prediction6)"
   ]
  },
  {
   "cell_type": "code",
   "execution_count": 126,
   "id": "iQfYz5ct7r4D",
   "metadata": {
    "colab": {
     "base_uri": "https://localhost:8080/"
    },
    "id": "iQfYz5ct7r4D",
    "outputId": "759070cf-1310-4cb3-f4ac-794fb921a6ce"
   },
   "outputs": [
    {
     "data": {
      "text/plain": [
       "0    0.50073\n",
       "1    0.49927\n",
       "dtype: float64"
      ]
     },
     "execution_count": 126,
     "metadata": {},
     "output_type": "execute_result"
    }
   ],
   "source": [
    "prediction6.value_counts(normalize=True)"
   ]
  },
  {
   "cell_type": "code",
   "execution_count": 127,
   "id": "D6m6sO0M6RJW",
   "metadata": {
    "colab": {
     "base_uri": "https://localhost:8080/"
    },
    "id": "D6m6sO0M6RJW",
    "outputId": "3bfbb4df-9691-46c5-b706-09dd0ea6abcb"
   },
   "outputs": [
    {
     "data": {
      "text/plain": [
       "array([[240,  89],\n",
       "       [103, 253]], dtype=int64)"
      ]
     },
     "execution_count": 127,
     "metadata": {},
     "output_type": "execute_result"
    }
   ],
   "source": [
    "confusion_matrix(Y_test,prediction6)"
   ]
  },
  {
   "cell_type": "code",
   "execution_count": 128,
   "id": "CKU_vAzU6Vww",
   "metadata": {
    "colab": {
     "base_uri": "https://localhost:8080/"
    },
    "id": "CKU_vAzU6Vww",
    "outputId": "2aa0c145-2cfd-4a69-9b87-6f1cb74905eb"
   },
   "outputs": [
    {
     "data": {
      "text/plain": [
       "0.7397660818713451"
      ]
     },
     "execution_count": 128,
     "metadata": {},
     "output_type": "execute_result"
    }
   ],
   "source": [
    "precision_score(Y_test,prediction6)"
   ]
  },
  {
   "cell_type": "code",
   "execution_count": 129,
   "id": "ebiZArH06aRP",
   "metadata": {
    "colab": {
     "base_uri": "https://localhost:8080/"
    },
    "id": "ebiZArH06aRP",
    "outputId": "6036744f-51ba-439f-fe39-f0c6a179f272"
   },
   "outputs": [
    {
     "data": {
      "text/plain": [
       "0.7197080291970803"
      ]
     },
     "execution_count": 129,
     "metadata": {},
     "output_type": "execute_result"
    }
   ],
   "source": [
    "accuracy_score(Y_test,prediction6)"
   ]
  },
  {
   "cell_type": "code",
   "execution_count": 130,
   "id": "bV3EdaJD6fac",
   "metadata": {
    "colab": {
     "base_uri": "https://localhost:8080/"
    },
    "id": "bV3EdaJD6fac",
    "outputId": "20f7a334-f6a4-4045-b085-6b6cfe3aaad3"
   },
   "outputs": [
    {
     "data": {
      "text/plain": [
       "0.7106741573033708"
      ]
     },
     "execution_count": 130,
     "metadata": {},
     "output_type": "execute_result"
    }
   ],
   "source": [
    "recall_score(Y_test,prediction6)"
   ]
  },
  {
   "cell_type": "markdown",
   "id": "wzkrSC5Z6nH5",
   "metadata": {
    "id": "wzkrSC5Z6nH5"
   },
   "source": [
    "Model7"
   ]
  },
  {
   "cell_type": "code",
   "execution_count": 131,
   "id": "xnTACsFb6il6",
   "metadata": {
    "id": "xnTACsFb6il6"
   },
   "outputs": [],
   "source": [
    "from sklearn.model_selection import train_test_split\n",
    "X_train,X_test,Y_train,Y_test=train_test_split(X,Y,test_size=0.1,random_state=24)"
   ]
  },
  {
   "cell_type": "code",
   "execution_count": 132,
   "id": "gud1m8Kf6wf4",
   "metadata": {
    "id": "gud1m8Kf6wf4"
   },
   "outputs": [],
   "source": [
    "clf=LogisticRegression()\n",
    "clf_model7=clf.fit(X_train,Y_train)\n",
    "prediction7=clf_model7.predict(X_test)"
   ]
  },
  {
   "cell_type": "code",
   "execution_count": 133,
   "id": "nV47zYwD697h",
   "metadata": {
    "colab": {
     "base_uri": "https://localhost:8080/"
    },
    "id": "nV47zYwD697h",
    "outputId": "84255c59-ac71-40aa-a0e9-64996fa433a5"
   },
   "outputs": [
    {
     "data": {
      "text/plain": [
       "array([[2376, 1074],\n",
       "       [1184, 2216]], dtype=int64)"
      ]
     },
     "execution_count": 133,
     "metadata": {},
     "output_type": "execute_result"
    }
   ],
   "source": [
    "confusion_matrix(Y_test,prediction7)"
   ]
  },
  {
   "cell_type": "code",
   "execution_count": null,
   "id": "aJ1HReyL7B5_",
   "metadata": {
    "id": "aJ1HReyL7B5_"
   },
   "outputs": [],
   "source": []
  }
 ],
 "metadata": {
  "colab": {
   "provenance": []
  },
  "kernelspec": {
   "display_name": "Python 3 (ipykernel)",
   "language": "python",
   "name": "python3"
  },
  "language_info": {
   "codemirror_mode": {
    "name": "ipython",
    "version": 3
   },
   "file_extension": ".py",
   "mimetype": "text/x-python",
   "name": "python",
   "nbconvert_exporter": "python",
   "pygments_lexer": "ipython3",
   "version": "3.9.12"
  }
 },
 "nbformat": 4,
 "nbformat_minor": 5
}
